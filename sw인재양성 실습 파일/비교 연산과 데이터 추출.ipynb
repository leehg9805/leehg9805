{
 "cells": [
  {
   "cell_type": "code",
   "execution_count": 1,
   "id": "8546f6d0",
   "metadata": {},
   "outputs": [
    {
     "data": {
      "text/plain": [
       "array([ True, False, False,  True,  True,  True])"
      ]
     },
     "execution_count": 1,
     "metadata": {},
     "output_type": "execute_result"
    }
   ],
   "source": [
    "#1.1 브로드캐스팅 비교 연산\n",
    "import numpy as np\n",
    "x =np.array([4,3,2,6,8,5])\n",
    "x>3"
   ]
  },
  {
   "cell_type": "code",
   "execution_count": 2,
   "id": "edd726ab",
   "metadata": {},
   "outputs": [
    {
     "data": {
      "text/plain": [
       "array([False,  True, False])"
      ]
     },
     "execution_count": 2,
     "metadata": {},
     "output_type": "execute_result"
    }
   ],
   "source": [
    "#1.2 요소별 비교연산\n",
    "x = np.array([1,3,0])\n",
    "y = np.array([2,1,7])\n",
    "x>y"
   ]
  },
  {
   "cell_type": "code",
   "execution_count": 3,
   "id": "ca30f4f0",
   "metadata": {},
   "outputs": [
    {
     "data": {
      "text/plain": [
       "array([ True,  True,  True, False, False])"
      ]
     },
     "execution_count": 3,
     "metadata": {},
     "output_type": "execute_result"
    }
   ],
   "source": [
    "#2.1 all과 any\n",
    "\n",
    "x=np.array([4,6,7,3,2])\n",
    "(x>3)"
   ]
  },
  {
   "cell_type": "code",
   "execution_count": 4,
   "id": "88eba406",
   "metadata": {},
   "outputs": [
    {
     "data": {
      "text/plain": [
       "False"
      ]
     },
     "execution_count": 4,
     "metadata": {},
     "output_type": "execute_result"
    }
   ],
   "source": [
    "(x>3).all()"
   ]
  },
  {
   "cell_type": "code",
   "execution_count": 5,
   "id": "83708f78",
   "metadata": {},
   "outputs": [
    {
     "data": {
      "text/plain": [
       "True"
      ]
     },
     "execution_count": 5,
     "metadata": {},
     "output_type": "execute_result"
    }
   ],
   "source": [
    "(x>3).any()"
   ]
  },
  {
   "cell_type": "code",
   "execution_count": 6,
   "id": "9622ff66",
   "metadata": {},
   "outputs": [
    {
     "data": {
      "text/plain": [
       "True"
      ]
     },
     "execution_count": 6,
     "metadata": {},
     "output_type": "execute_result"
    }
   ],
   "source": [
    "(x<10).all()"
   ]
  },
  {
   "cell_type": "code",
   "execution_count": 7,
   "id": "333285b8",
   "metadata": {},
   "outputs": [
    {
     "data": {
      "text/plain": [
       "True"
      ]
     },
     "execution_count": 7,
     "metadata": {},
     "output_type": "execute_result"
    }
   ],
   "source": [
    "(x<10).any()"
   ]
  },
  {
   "cell_type": "code",
   "execution_count": 8,
   "id": "dec6eb01",
   "metadata": {},
   "outputs": [
    {
     "data": {
      "text/plain": [
       "False"
      ]
     },
     "execution_count": 8,
     "metadata": {},
     "output_type": "execute_result"
    }
   ],
   "source": [
    "(x>10).any()"
   ]
  },
  {
   "cell_type": "code",
   "execution_count": 9,
   "id": "d22e2f62",
   "metadata": {},
   "outputs": [
    {
     "data": {
      "text/plain": [
       "array([False,  True,  True, False, False])"
      ]
     },
     "execution_count": 9,
     "metadata": {},
     "output_type": "execute_result"
    }
   ],
   "source": [
    "#2.2. 인덱스 반환 함수\n",
    "\n",
    "x = np.array([4,6,7,3,2])\n",
    "x>5"
   ]
  },
  {
   "cell_type": "code",
   "execution_count": 10,
   "id": "ac4d4269",
   "metadata": {},
   "outputs": [
    {
     "data": {
      "text/plain": [
       "(array([1, 2], dtype=int64),)"
      ]
     },
     "execution_count": 10,
     "metadata": {},
     "output_type": "execute_result"
    }
   ],
   "source": [
    "np.where(x>5)"
   ]
  },
  {
   "cell_type": "code",
   "execution_count": 11,
   "id": "b6f59a50",
   "metadata": {},
   "outputs": [
    {
     "data": {
      "text/plain": [
       "array([20, 10, 10, 20, 20])"
      ]
     },
     "execution_count": 11,
     "metadata": {},
     "output_type": "execute_result"
    }
   ],
   "source": [
    "x = np.array([4,6,7,3,2])\n",
    "np.where(x>5,10,20)"
   ]
  },
  {
   "cell_type": "code",
   "execution_count": 12,
   "id": "67ff74c1",
   "metadata": {},
   "outputs": [
    {
     "data": {
      "text/plain": [
       "array([4, 3, 0, 1, 2], dtype=int64)"
      ]
     },
     "execution_count": 12,
     "metadata": {},
     "output_type": "execute_result"
    }
   ],
   "source": [
    "#2.3 정렬된 값의 인덱스를 반환\n",
    "\n",
    "x = np.array([4,6,7,3,2])\n",
    "np.argsort(x)"
   ]
  },
  {
   "cell_type": "code",
   "execution_count": 13,
   "id": "d30c98eb",
   "metadata": {},
   "outputs": [
    {
     "data": {
      "text/plain": [
       "array([ True,  True,  True, False, False])"
      ]
     },
     "execution_count": 13,
     "metadata": {},
     "output_type": "execute_result"
    }
   ],
   "source": [
    "#3.1 불린 인덱스\n",
    "\n",
    "x = np.array([4,6,7,3,2])\n",
    "x>3"
   ]
  },
  {
   "cell_type": "code",
   "execution_count": 14,
   "id": "c1fb04d7",
   "metadata": {},
   "outputs": [
    {
     "data": {
      "text/plain": [
       "array([4, 6, 7])"
      ]
     },
     "execution_count": 14,
     "metadata": {},
     "output_type": "execute_result"
    }
   ],
   "source": [
    "cond = x>3\n",
    "x[cond]"
   ]
  },
  {
   "cell_type": "code",
   "execution_count": 15,
   "id": "91c87963",
   "metadata": {},
   "outputs": [
    {
     "data": {
      "text/plain": [
       "(5,)"
      ]
     },
     "execution_count": 15,
     "metadata": {},
     "output_type": "execute_result"
    }
   ],
   "source": [
    "x.shape"
   ]
  },
  {
   "cell_type": "code",
   "execution_count": 16,
   "id": "02cc3ae1",
   "metadata": {},
   "outputs": [
    {
     "data": {
      "text/plain": [
       "(5,)"
      ]
     },
     "execution_count": 16,
     "metadata": {},
     "output_type": "execute_result"
    }
   ],
   "source": [
    "cond.shape"
   ]
  },
  {
   "cell_type": "code",
   "execution_count": 17,
   "id": "c62a76a6",
   "metadata": {},
   "outputs": [
    {
     "data": {
      "text/plain": [
       "array([6, 7, 4, 7, 7, 7])"
      ]
     },
     "execution_count": 17,
     "metadata": {},
     "output_type": "execute_result"
    }
   ],
   "source": [
    "# 3.2 팬시 인덱스\n",
    "\n",
    "x = np.array([4,6,7,3,2])\n",
    "cond = np.array([1,2,0,2,2,2,],int)\n",
    "x[cond]"
   ]
  },
  {
   "cell_type": "code",
   "execution_count": 18,
   "id": "fece630b",
   "metadata": {},
   "outputs": [
    {
     "data": {
      "text/plain": [
       "array([6, 7, 4, 7, 7, 7])"
      ]
     },
     "execution_count": 18,
     "metadata": {},
     "output_type": "execute_result"
    }
   ],
   "source": [
    "x.take(cond)"
   ]
  },
  {
   "cell_type": "code",
   "execution_count": 19,
   "id": "6ff6244d",
   "metadata": {},
   "outputs": [
    {
     "data": {
      "text/plain": [
       "array([ 1,  9,  9, 16,  4,  4])"
      ]
     },
     "execution_count": 19,
     "metadata": {},
     "output_type": "execute_result"
    }
   ],
   "source": [
    "x = np.array([[1,4], [9,16]],int)\n",
    "a = np.array([0,1,1,1,0,0], int)\n",
    "b = np.array([0,0,0,1,1,1],int)\n",
    "x[a,b]"
   ]
  },
  {
   "cell_type": "code",
   "execution_count": null,
   "id": "e2762627",
   "metadata": {},
   "outputs": [],
   "source": []
  }
 ],
 "metadata": {
  "kernelspec": {
   "display_name": "Python 3 (ipykernel)",
   "language": "python",
   "name": "python3"
  },
  "language_info": {
   "codemirror_mode": {
    "name": "ipython",
    "version": 3
   },
   "file_extension": ".py",
   "mimetype": "text/x-python",
   "name": "python",
   "nbconvert_exporter": "python",
   "pygments_lexer": "ipython3",
   "version": "3.9.7"
  }
 },
 "nbformat": 4,
 "nbformat_minor": 5
}
