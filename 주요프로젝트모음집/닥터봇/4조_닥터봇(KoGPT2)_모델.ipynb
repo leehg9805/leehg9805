{
  "nbformat": 4,
  "nbformat_minor": 0,
  "metadata": {
    "colab": {
      "provenance": [],
      "collapsed_sections": []
    },
    "kernelspec": {
      "name": "python3",
      "display_name": "Python 3"
    },
    "language_info": {
      "name": "python"
    },
    "accelerator": "TPU",
    "widgets": {
      "application/vnd.jupyter.widget-state+json": {
        "afc4fa5b32804024ba6819ca8da09951": {
          "model_module": "@jupyter-widgets/controls",
          "model_name": "HBoxModel",
          "model_module_version": "1.5.0",
          "state": {
            "_dom_classes": [],
            "_model_module": "@jupyter-widgets/controls",
            "_model_module_version": "1.5.0",
            "_model_name": "HBoxModel",
            "_view_count": null,
            "_view_module": "@jupyter-widgets/controls",
            "_view_module_version": "1.5.0",
            "_view_name": "HBoxView",
            "box_style": "",
            "children": [
              "IPY_MODEL_65d7013920534f798a91d10ecdd1b226",
              "IPY_MODEL_9bb5038dbdd44e71a910e1028d898ae6",
              "IPY_MODEL_02429c3d71544819ba77f4ea55095911"
            ],
            "layout": "IPY_MODEL_018f30203cd2429c93f889d1796197a0"
          }
        },
        "65d7013920534f798a91d10ecdd1b226": {
          "model_module": "@jupyter-widgets/controls",
          "model_name": "HTMLModel",
          "model_module_version": "1.5.0",
          "state": {
            "_dom_classes": [],
            "_model_module": "@jupyter-widgets/controls",
            "_model_module_version": "1.5.0",
            "_model_name": "HTMLModel",
            "_view_count": null,
            "_view_module": "@jupyter-widgets/controls",
            "_view_module_version": "1.5.0",
            "_view_name": "HTMLView",
            "description": "",
            "description_tooltip": null,
            "layout": "IPY_MODEL_8eb8c32f67464adeb784200f14b59078",
            "placeholder": "​",
            "style": "IPY_MODEL_acde0172c3914ea99618d978ecb5fd9d",
            "value": "Downloading: 100%"
          }
        },
        "9bb5038dbdd44e71a910e1028d898ae6": {
          "model_module": "@jupyter-widgets/controls",
          "model_name": "FloatProgressModel",
          "model_module_version": "1.5.0",
          "state": {
            "_dom_classes": [],
            "_model_module": "@jupyter-widgets/controls",
            "_model_module_version": "1.5.0",
            "_model_name": "FloatProgressModel",
            "_view_count": null,
            "_view_module": "@jupyter-widgets/controls",
            "_view_module_version": "1.5.0",
            "_view_name": "ProgressView",
            "bar_style": "success",
            "description": "",
            "description_tooltip": null,
            "layout": "IPY_MODEL_40c4e44f654d45a2b577862bc0894745",
            "max": 1000,
            "min": 0,
            "orientation": "horizontal",
            "style": "IPY_MODEL_e1f652d8de574fa99a77191d3c19eec3",
            "value": 1000
          }
        },
        "02429c3d71544819ba77f4ea55095911": {
          "model_module": "@jupyter-widgets/controls",
          "model_name": "HTMLModel",
          "model_module_version": "1.5.0",
          "state": {
            "_dom_classes": [],
            "_model_module": "@jupyter-widgets/controls",
            "_model_module_version": "1.5.0",
            "_model_name": "HTMLModel",
            "_view_count": null,
            "_view_module": "@jupyter-widgets/controls",
            "_view_module_version": "1.5.0",
            "_view_name": "HTMLView",
            "description": "",
            "description_tooltip": null,
            "layout": "IPY_MODEL_68159e760b8f469a9e94581d8ab97042",
            "placeholder": "​",
            "style": "IPY_MODEL_4ff93068a9b84ce0aebdf5f752a2ed25",
            "value": " 1.00k/1.00k [00:00&lt;00:00, 18.3kB/s]"
          }
        },
        "018f30203cd2429c93f889d1796197a0": {
          "model_module": "@jupyter-widgets/base",
          "model_name": "LayoutModel",
          "model_module_version": "1.2.0",
          "state": {
            "_model_module": "@jupyter-widgets/base",
            "_model_module_version": "1.2.0",
            "_model_name": "LayoutModel",
            "_view_count": null,
            "_view_module": "@jupyter-widgets/base",
            "_view_module_version": "1.2.0",
            "_view_name": "LayoutView",
            "align_content": null,
            "align_items": null,
            "align_self": null,
            "border": null,
            "bottom": null,
            "display": null,
            "flex": null,
            "flex_flow": null,
            "grid_area": null,
            "grid_auto_columns": null,
            "grid_auto_flow": null,
            "grid_auto_rows": null,
            "grid_column": null,
            "grid_gap": null,
            "grid_row": null,
            "grid_template_areas": null,
            "grid_template_columns": null,
            "grid_template_rows": null,
            "height": null,
            "justify_content": null,
            "justify_items": null,
            "left": null,
            "margin": null,
            "max_height": null,
            "max_width": null,
            "min_height": null,
            "min_width": null,
            "object_fit": null,
            "object_position": null,
            "order": null,
            "overflow": null,
            "overflow_x": null,
            "overflow_y": null,
            "padding": null,
            "right": null,
            "top": null,
            "visibility": null,
            "width": null
          }
        },
        "8eb8c32f67464adeb784200f14b59078": {
          "model_module": "@jupyter-widgets/base",
          "model_name": "LayoutModel",
          "model_module_version": "1.2.0",
          "state": {
            "_model_module": "@jupyter-widgets/base",
            "_model_module_version": "1.2.0",
            "_model_name": "LayoutModel",
            "_view_count": null,
            "_view_module": "@jupyter-widgets/base",
            "_view_module_version": "1.2.0",
            "_view_name": "LayoutView",
            "align_content": null,
            "align_items": null,
            "align_self": null,
            "border": null,
            "bottom": null,
            "display": null,
            "flex": null,
            "flex_flow": null,
            "grid_area": null,
            "grid_auto_columns": null,
            "grid_auto_flow": null,
            "grid_auto_rows": null,
            "grid_column": null,
            "grid_gap": null,
            "grid_row": null,
            "grid_template_areas": null,
            "grid_template_columns": null,
            "grid_template_rows": null,
            "height": null,
            "justify_content": null,
            "justify_items": null,
            "left": null,
            "margin": null,
            "max_height": null,
            "max_width": null,
            "min_height": null,
            "min_width": null,
            "object_fit": null,
            "object_position": null,
            "order": null,
            "overflow": null,
            "overflow_x": null,
            "overflow_y": null,
            "padding": null,
            "right": null,
            "top": null,
            "visibility": null,
            "width": null
          }
        },
        "acde0172c3914ea99618d978ecb5fd9d": {
          "model_module": "@jupyter-widgets/controls",
          "model_name": "DescriptionStyleModel",
          "model_module_version": "1.5.0",
          "state": {
            "_model_module": "@jupyter-widgets/controls",
            "_model_module_version": "1.5.0",
            "_model_name": "DescriptionStyleModel",
            "_view_count": null,
            "_view_module": "@jupyter-widgets/base",
            "_view_module_version": "1.2.0",
            "_view_name": "StyleView",
            "description_width": ""
          }
        },
        "40c4e44f654d45a2b577862bc0894745": {
          "model_module": "@jupyter-widgets/base",
          "model_name": "LayoutModel",
          "model_module_version": "1.2.0",
          "state": {
            "_model_module": "@jupyter-widgets/base",
            "_model_module_version": "1.2.0",
            "_model_name": "LayoutModel",
            "_view_count": null,
            "_view_module": "@jupyter-widgets/base",
            "_view_module_version": "1.2.0",
            "_view_name": "LayoutView",
            "align_content": null,
            "align_items": null,
            "align_self": null,
            "border": null,
            "bottom": null,
            "display": null,
            "flex": null,
            "flex_flow": null,
            "grid_area": null,
            "grid_auto_columns": null,
            "grid_auto_flow": null,
            "grid_auto_rows": null,
            "grid_column": null,
            "grid_gap": null,
            "grid_row": null,
            "grid_template_areas": null,
            "grid_template_columns": null,
            "grid_template_rows": null,
            "height": null,
            "justify_content": null,
            "justify_items": null,
            "left": null,
            "margin": null,
            "max_height": null,
            "max_width": null,
            "min_height": null,
            "min_width": null,
            "object_fit": null,
            "object_position": null,
            "order": null,
            "overflow": null,
            "overflow_x": null,
            "overflow_y": null,
            "padding": null,
            "right": null,
            "top": null,
            "visibility": null,
            "width": null
          }
        },
        "e1f652d8de574fa99a77191d3c19eec3": {
          "model_module": "@jupyter-widgets/controls",
          "model_name": "ProgressStyleModel",
          "model_module_version": "1.5.0",
          "state": {
            "_model_module": "@jupyter-widgets/controls",
            "_model_module_version": "1.5.0",
            "_model_name": "ProgressStyleModel",
            "_view_count": null,
            "_view_module": "@jupyter-widgets/base",
            "_view_module_version": "1.2.0",
            "_view_name": "StyleView",
            "bar_color": null,
            "description_width": ""
          }
        },
        "68159e760b8f469a9e94581d8ab97042": {
          "model_module": "@jupyter-widgets/base",
          "model_name": "LayoutModel",
          "model_module_version": "1.2.0",
          "state": {
            "_model_module": "@jupyter-widgets/base",
            "_model_module_version": "1.2.0",
            "_model_name": "LayoutModel",
            "_view_count": null,
            "_view_module": "@jupyter-widgets/base",
            "_view_module_version": "1.2.0",
            "_view_name": "LayoutView",
            "align_content": null,
            "align_items": null,
            "align_self": null,
            "border": null,
            "bottom": null,
            "display": null,
            "flex": null,
            "flex_flow": null,
            "grid_area": null,
            "grid_auto_columns": null,
            "grid_auto_flow": null,
            "grid_auto_rows": null,
            "grid_column": null,
            "grid_gap": null,
            "grid_row": null,
            "grid_template_areas": null,
            "grid_template_columns": null,
            "grid_template_rows": null,
            "height": null,
            "justify_content": null,
            "justify_items": null,
            "left": null,
            "margin": null,
            "max_height": null,
            "max_width": null,
            "min_height": null,
            "min_width": null,
            "object_fit": null,
            "object_position": null,
            "order": null,
            "overflow": null,
            "overflow_x": null,
            "overflow_y": null,
            "padding": null,
            "right": null,
            "top": null,
            "visibility": null,
            "width": null
          }
        },
        "4ff93068a9b84ce0aebdf5f752a2ed25": {
          "model_module": "@jupyter-widgets/controls",
          "model_name": "DescriptionStyleModel",
          "model_module_version": "1.5.0",
          "state": {
            "_model_module": "@jupyter-widgets/controls",
            "_model_module_version": "1.5.0",
            "_model_name": "DescriptionStyleModel",
            "_view_count": null,
            "_view_module": "@jupyter-widgets/base",
            "_view_module_version": "1.2.0",
            "_view_name": "StyleView",
            "description_width": ""
          }
        },
        "03e97737f7c247828db46f95af9b6f06": {
          "model_module": "@jupyter-widgets/controls",
          "model_name": "HBoxModel",
          "model_module_version": "1.5.0",
          "state": {
            "_dom_classes": [],
            "_model_module": "@jupyter-widgets/controls",
            "_model_module_version": "1.5.0",
            "_model_name": "HBoxModel",
            "_view_count": null,
            "_view_module": "@jupyter-widgets/controls",
            "_view_module_version": "1.5.0",
            "_view_name": "HBoxView",
            "box_style": "",
            "children": [
              "IPY_MODEL_8bc72d3536664afe8728b4246a3680c0",
              "IPY_MODEL_8950d306d6854197b60a5bd88c3130ce",
              "IPY_MODEL_7b334184e9924add80b0e592ee7032ab"
            ],
            "layout": "IPY_MODEL_0cbbba434f0b49d384febc521b3d06ae"
          }
        },
        "8bc72d3536664afe8728b4246a3680c0": {
          "model_module": "@jupyter-widgets/controls",
          "model_name": "HTMLModel",
          "model_module_version": "1.5.0",
          "state": {
            "_dom_classes": [],
            "_model_module": "@jupyter-widgets/controls",
            "_model_module_version": "1.5.0",
            "_model_name": "HTMLModel",
            "_view_count": null,
            "_view_module": "@jupyter-widgets/controls",
            "_view_module_version": "1.5.0",
            "_view_name": "HTMLView",
            "description": "",
            "description_tooltip": null,
            "layout": "IPY_MODEL_059f82ac7e09451ea73194b81c9e9dee",
            "placeholder": "​",
            "style": "IPY_MODEL_5977f478d28645d8acf3a5a9d965ea15",
            "value": "Downloading: 100%"
          }
        },
        "8950d306d6854197b60a5bd88c3130ce": {
          "model_module": "@jupyter-widgets/controls",
          "model_name": "FloatProgressModel",
          "model_module_version": "1.5.0",
          "state": {
            "_dom_classes": [],
            "_model_module": "@jupyter-widgets/controls",
            "_model_module_version": "1.5.0",
            "_model_name": "FloatProgressModel",
            "_view_count": null,
            "_view_module": "@jupyter-widgets/controls",
            "_view_module_version": "1.5.0",
            "_view_name": "ProgressView",
            "bar_style": "success",
            "description": "",
            "description_tooltip": null,
            "layout": "IPY_MODEL_779a15c06c4b4ea1be81d5bc3ac6a4fd",
            "max": 2825034,
            "min": 0,
            "orientation": "horizontal",
            "style": "IPY_MODEL_ff54a733c33147528c9e2fd264cf8b02",
            "value": 2825034
          }
        },
        "7b334184e9924add80b0e592ee7032ab": {
          "model_module": "@jupyter-widgets/controls",
          "model_name": "HTMLModel",
          "model_module_version": "1.5.0",
          "state": {
            "_dom_classes": [],
            "_model_module": "@jupyter-widgets/controls",
            "_model_module_version": "1.5.0",
            "_model_name": "HTMLModel",
            "_view_count": null,
            "_view_module": "@jupyter-widgets/controls",
            "_view_module_version": "1.5.0",
            "_view_name": "HTMLView",
            "description": "",
            "description_tooltip": null,
            "layout": "IPY_MODEL_2132c93f7a924c01b1ce08dd560f8340",
            "placeholder": "​",
            "style": "IPY_MODEL_d44a58be9cd849ed91fc4c52d19fa4b4",
            "value": " 2.83M/2.83M [00:00&lt;00:00, 14.7MB/s]"
          }
        },
        "0cbbba434f0b49d384febc521b3d06ae": {
          "model_module": "@jupyter-widgets/base",
          "model_name": "LayoutModel",
          "model_module_version": "1.2.0",
          "state": {
            "_model_module": "@jupyter-widgets/base",
            "_model_module_version": "1.2.0",
            "_model_name": "LayoutModel",
            "_view_count": null,
            "_view_module": "@jupyter-widgets/base",
            "_view_module_version": "1.2.0",
            "_view_name": "LayoutView",
            "align_content": null,
            "align_items": null,
            "align_self": null,
            "border": null,
            "bottom": null,
            "display": null,
            "flex": null,
            "flex_flow": null,
            "grid_area": null,
            "grid_auto_columns": null,
            "grid_auto_flow": null,
            "grid_auto_rows": null,
            "grid_column": null,
            "grid_gap": null,
            "grid_row": null,
            "grid_template_areas": null,
            "grid_template_columns": null,
            "grid_template_rows": null,
            "height": null,
            "justify_content": null,
            "justify_items": null,
            "left": null,
            "margin": null,
            "max_height": null,
            "max_width": null,
            "min_height": null,
            "min_width": null,
            "object_fit": null,
            "object_position": null,
            "order": null,
            "overflow": null,
            "overflow_x": null,
            "overflow_y": null,
            "padding": null,
            "right": null,
            "top": null,
            "visibility": null,
            "width": null
          }
        },
        "059f82ac7e09451ea73194b81c9e9dee": {
          "model_module": "@jupyter-widgets/base",
          "model_name": "LayoutModel",
          "model_module_version": "1.2.0",
          "state": {
            "_model_module": "@jupyter-widgets/base",
            "_model_module_version": "1.2.0",
            "_model_name": "LayoutModel",
            "_view_count": null,
            "_view_module": "@jupyter-widgets/base",
            "_view_module_version": "1.2.0",
            "_view_name": "LayoutView",
            "align_content": null,
            "align_items": null,
            "align_self": null,
            "border": null,
            "bottom": null,
            "display": null,
            "flex": null,
            "flex_flow": null,
            "grid_area": null,
            "grid_auto_columns": null,
            "grid_auto_flow": null,
            "grid_auto_rows": null,
            "grid_column": null,
            "grid_gap": null,
            "grid_row": null,
            "grid_template_areas": null,
            "grid_template_columns": null,
            "grid_template_rows": null,
            "height": null,
            "justify_content": null,
            "justify_items": null,
            "left": null,
            "margin": null,
            "max_height": null,
            "max_width": null,
            "min_height": null,
            "min_width": null,
            "object_fit": null,
            "object_position": null,
            "order": null,
            "overflow": null,
            "overflow_x": null,
            "overflow_y": null,
            "padding": null,
            "right": null,
            "top": null,
            "visibility": null,
            "width": null
          }
        },
        "5977f478d28645d8acf3a5a9d965ea15": {
          "model_module": "@jupyter-widgets/controls",
          "model_name": "DescriptionStyleModel",
          "model_module_version": "1.5.0",
          "state": {
            "_model_module": "@jupyter-widgets/controls",
            "_model_module_version": "1.5.0",
            "_model_name": "DescriptionStyleModel",
            "_view_count": null,
            "_view_module": "@jupyter-widgets/base",
            "_view_module_version": "1.2.0",
            "_view_name": "StyleView",
            "description_width": ""
          }
        },
        "779a15c06c4b4ea1be81d5bc3ac6a4fd": {
          "model_module": "@jupyter-widgets/base",
          "model_name": "LayoutModel",
          "model_module_version": "1.2.0",
          "state": {
            "_model_module": "@jupyter-widgets/base",
            "_model_module_version": "1.2.0",
            "_model_name": "LayoutModel",
            "_view_count": null,
            "_view_module": "@jupyter-widgets/base",
            "_view_module_version": "1.2.0",
            "_view_name": "LayoutView",
            "align_content": null,
            "align_items": null,
            "align_self": null,
            "border": null,
            "bottom": null,
            "display": null,
            "flex": null,
            "flex_flow": null,
            "grid_area": null,
            "grid_auto_columns": null,
            "grid_auto_flow": null,
            "grid_auto_rows": null,
            "grid_column": null,
            "grid_gap": null,
            "grid_row": null,
            "grid_template_areas": null,
            "grid_template_columns": null,
            "grid_template_rows": null,
            "height": null,
            "justify_content": null,
            "justify_items": null,
            "left": null,
            "margin": null,
            "max_height": null,
            "max_width": null,
            "min_height": null,
            "min_width": null,
            "object_fit": null,
            "object_position": null,
            "order": null,
            "overflow": null,
            "overflow_x": null,
            "overflow_y": null,
            "padding": null,
            "right": null,
            "top": null,
            "visibility": null,
            "width": null
          }
        },
        "ff54a733c33147528c9e2fd264cf8b02": {
          "model_module": "@jupyter-widgets/controls",
          "model_name": "ProgressStyleModel",
          "model_module_version": "1.5.0",
          "state": {
            "_model_module": "@jupyter-widgets/controls",
            "_model_module_version": "1.5.0",
            "_model_name": "ProgressStyleModel",
            "_view_count": null,
            "_view_module": "@jupyter-widgets/base",
            "_view_module_version": "1.2.0",
            "_view_name": "StyleView",
            "bar_color": null,
            "description_width": ""
          }
        },
        "2132c93f7a924c01b1ce08dd560f8340": {
          "model_module": "@jupyter-widgets/base",
          "model_name": "LayoutModel",
          "model_module_version": "1.2.0",
          "state": {
            "_model_module": "@jupyter-widgets/base",
            "_model_module_version": "1.2.0",
            "_model_name": "LayoutModel",
            "_view_count": null,
            "_view_module": "@jupyter-widgets/base",
            "_view_module_version": "1.2.0",
            "_view_name": "LayoutView",
            "align_content": null,
            "align_items": null,
            "align_self": null,
            "border": null,
            "bottom": null,
            "display": null,
            "flex": null,
            "flex_flow": null,
            "grid_area": null,
            "grid_auto_columns": null,
            "grid_auto_flow": null,
            "grid_auto_rows": null,
            "grid_column": null,
            "grid_gap": null,
            "grid_row": null,
            "grid_template_areas": null,
            "grid_template_columns": null,
            "grid_template_rows": null,
            "height": null,
            "justify_content": null,
            "justify_items": null,
            "left": null,
            "margin": null,
            "max_height": null,
            "max_width": null,
            "min_height": null,
            "min_width": null,
            "object_fit": null,
            "object_position": null,
            "order": null,
            "overflow": null,
            "overflow_x": null,
            "overflow_y": null,
            "padding": null,
            "right": null,
            "top": null,
            "visibility": null,
            "width": null
          }
        },
        "d44a58be9cd849ed91fc4c52d19fa4b4": {
          "model_module": "@jupyter-widgets/controls",
          "model_name": "DescriptionStyleModel",
          "model_module_version": "1.5.0",
          "state": {
            "_model_module": "@jupyter-widgets/controls",
            "_model_module_version": "1.5.0",
            "_model_name": "DescriptionStyleModel",
            "_view_count": null,
            "_view_module": "@jupyter-widgets/base",
            "_view_module_version": "1.2.0",
            "_view_name": "StyleView",
            "description_width": ""
          }
        },
        "de212712b1e74117b2ce0125785e303d": {
          "model_module": "@jupyter-widgets/controls",
          "model_name": "HBoxModel",
          "model_module_version": "1.5.0",
          "state": {
            "_dom_classes": [],
            "_model_module": "@jupyter-widgets/controls",
            "_model_module_version": "1.5.0",
            "_model_name": "HBoxModel",
            "_view_count": null,
            "_view_module": "@jupyter-widgets/controls",
            "_view_module_version": "1.5.0",
            "_view_name": "HBoxView",
            "box_style": "",
            "children": [
              "IPY_MODEL_c199ca9e66bd4cab9e6e8b080827fafd",
              "IPY_MODEL_64a36543729949cfbe8d8e4f82633cc2",
              "IPY_MODEL_7b2fc2cc26394e1a8113bebcb905df54"
            ],
            "layout": "IPY_MODEL_9542c96caa88495f91c4b6948037bc08"
          }
        },
        "c199ca9e66bd4cab9e6e8b080827fafd": {
          "model_module": "@jupyter-widgets/controls",
          "model_name": "HTMLModel",
          "model_module_version": "1.5.0",
          "state": {
            "_dom_classes": [],
            "_model_module": "@jupyter-widgets/controls",
            "_model_module_version": "1.5.0",
            "_model_name": "HTMLModel",
            "_view_count": null,
            "_view_module": "@jupyter-widgets/controls",
            "_view_module_version": "1.5.0",
            "_view_name": "HTMLView",
            "description": "",
            "description_tooltip": null,
            "layout": "IPY_MODEL_996a867d7cc241249ed167d2426d2396",
            "placeholder": "​",
            "style": "IPY_MODEL_951707e5dc82440693ed3e65c16ca191",
            "value": "Downloading: 100%"
          }
        },
        "64a36543729949cfbe8d8e4f82633cc2": {
          "model_module": "@jupyter-widgets/controls",
          "model_name": "FloatProgressModel",
          "model_module_version": "1.5.0",
          "state": {
            "_dom_classes": [],
            "_model_module": "@jupyter-widgets/controls",
            "_model_module_version": "1.5.0",
            "_model_name": "FloatProgressModel",
            "_view_count": null,
            "_view_module": "@jupyter-widgets/controls",
            "_view_module_version": "1.5.0",
            "_view_name": "ProgressView",
            "bar_style": "success",
            "description": "",
            "description_tooltip": null,
            "layout": "IPY_MODEL_d5e945f4f9d644f5bcbdb9d296b85605",
            "max": 513302779,
            "min": 0,
            "orientation": "horizontal",
            "style": "IPY_MODEL_d3453c962f2947d08e945b7d3b6b8277",
            "value": 513302779
          }
        },
        "7b2fc2cc26394e1a8113bebcb905df54": {
          "model_module": "@jupyter-widgets/controls",
          "model_name": "HTMLModel",
          "model_module_version": "1.5.0",
          "state": {
            "_dom_classes": [],
            "_model_module": "@jupyter-widgets/controls",
            "_model_module_version": "1.5.0",
            "_model_name": "HTMLModel",
            "_view_count": null,
            "_view_module": "@jupyter-widgets/controls",
            "_view_module_version": "1.5.0",
            "_view_name": "HTMLView",
            "description": "",
            "description_tooltip": null,
            "layout": "IPY_MODEL_12d278234fb241259bb7be632c483dcc",
            "placeholder": "​",
            "style": "IPY_MODEL_5c9ba4aa9daf457cac034d57e8a34c23",
            "value": " 513M/513M [00:22&lt;00:00, 40.7MB/s]"
          }
        },
        "9542c96caa88495f91c4b6948037bc08": {
          "model_module": "@jupyter-widgets/base",
          "model_name": "LayoutModel",
          "model_module_version": "1.2.0",
          "state": {
            "_model_module": "@jupyter-widgets/base",
            "_model_module_version": "1.2.0",
            "_model_name": "LayoutModel",
            "_view_count": null,
            "_view_module": "@jupyter-widgets/base",
            "_view_module_version": "1.2.0",
            "_view_name": "LayoutView",
            "align_content": null,
            "align_items": null,
            "align_self": null,
            "border": null,
            "bottom": null,
            "display": null,
            "flex": null,
            "flex_flow": null,
            "grid_area": null,
            "grid_auto_columns": null,
            "grid_auto_flow": null,
            "grid_auto_rows": null,
            "grid_column": null,
            "grid_gap": null,
            "grid_row": null,
            "grid_template_areas": null,
            "grid_template_columns": null,
            "grid_template_rows": null,
            "height": null,
            "justify_content": null,
            "justify_items": null,
            "left": null,
            "margin": null,
            "max_height": null,
            "max_width": null,
            "min_height": null,
            "min_width": null,
            "object_fit": null,
            "object_position": null,
            "order": null,
            "overflow": null,
            "overflow_x": null,
            "overflow_y": null,
            "padding": null,
            "right": null,
            "top": null,
            "visibility": null,
            "width": null
          }
        },
        "996a867d7cc241249ed167d2426d2396": {
          "model_module": "@jupyter-widgets/base",
          "model_name": "LayoutModel",
          "model_module_version": "1.2.0",
          "state": {
            "_model_module": "@jupyter-widgets/base",
            "_model_module_version": "1.2.0",
            "_model_name": "LayoutModel",
            "_view_count": null,
            "_view_module": "@jupyter-widgets/base",
            "_view_module_version": "1.2.0",
            "_view_name": "LayoutView",
            "align_content": null,
            "align_items": null,
            "align_self": null,
            "border": null,
            "bottom": null,
            "display": null,
            "flex": null,
            "flex_flow": null,
            "grid_area": null,
            "grid_auto_columns": null,
            "grid_auto_flow": null,
            "grid_auto_rows": null,
            "grid_column": null,
            "grid_gap": null,
            "grid_row": null,
            "grid_template_areas": null,
            "grid_template_columns": null,
            "grid_template_rows": null,
            "height": null,
            "justify_content": null,
            "justify_items": null,
            "left": null,
            "margin": null,
            "max_height": null,
            "max_width": null,
            "min_height": null,
            "min_width": null,
            "object_fit": null,
            "object_position": null,
            "order": null,
            "overflow": null,
            "overflow_x": null,
            "overflow_y": null,
            "padding": null,
            "right": null,
            "top": null,
            "visibility": null,
            "width": null
          }
        },
        "951707e5dc82440693ed3e65c16ca191": {
          "model_module": "@jupyter-widgets/controls",
          "model_name": "DescriptionStyleModel",
          "model_module_version": "1.5.0",
          "state": {
            "_model_module": "@jupyter-widgets/controls",
            "_model_module_version": "1.5.0",
            "_model_name": "DescriptionStyleModel",
            "_view_count": null,
            "_view_module": "@jupyter-widgets/base",
            "_view_module_version": "1.2.0",
            "_view_name": "StyleView",
            "description_width": ""
          }
        },
        "d5e945f4f9d644f5bcbdb9d296b85605": {
          "model_module": "@jupyter-widgets/base",
          "model_name": "LayoutModel",
          "model_module_version": "1.2.0",
          "state": {
            "_model_module": "@jupyter-widgets/base",
            "_model_module_version": "1.2.0",
            "_model_name": "LayoutModel",
            "_view_count": null,
            "_view_module": "@jupyter-widgets/base",
            "_view_module_version": "1.2.0",
            "_view_name": "LayoutView",
            "align_content": null,
            "align_items": null,
            "align_self": null,
            "border": null,
            "bottom": null,
            "display": null,
            "flex": null,
            "flex_flow": null,
            "grid_area": null,
            "grid_auto_columns": null,
            "grid_auto_flow": null,
            "grid_auto_rows": null,
            "grid_column": null,
            "grid_gap": null,
            "grid_row": null,
            "grid_template_areas": null,
            "grid_template_columns": null,
            "grid_template_rows": null,
            "height": null,
            "justify_content": null,
            "justify_items": null,
            "left": null,
            "margin": null,
            "max_height": null,
            "max_width": null,
            "min_height": null,
            "min_width": null,
            "object_fit": null,
            "object_position": null,
            "order": null,
            "overflow": null,
            "overflow_x": null,
            "overflow_y": null,
            "padding": null,
            "right": null,
            "top": null,
            "visibility": null,
            "width": null
          }
        },
        "d3453c962f2947d08e945b7d3b6b8277": {
          "model_module": "@jupyter-widgets/controls",
          "model_name": "ProgressStyleModel",
          "model_module_version": "1.5.0",
          "state": {
            "_model_module": "@jupyter-widgets/controls",
            "_model_module_version": "1.5.0",
            "_model_name": "ProgressStyleModel",
            "_view_count": null,
            "_view_module": "@jupyter-widgets/base",
            "_view_module_version": "1.2.0",
            "_view_name": "StyleView",
            "bar_color": null,
            "description_width": ""
          }
        },
        "12d278234fb241259bb7be632c483dcc": {
          "model_module": "@jupyter-widgets/base",
          "model_name": "LayoutModel",
          "model_module_version": "1.2.0",
          "state": {
            "_model_module": "@jupyter-widgets/base",
            "_model_module_version": "1.2.0",
            "_model_name": "LayoutModel",
            "_view_count": null,
            "_view_module": "@jupyter-widgets/base",
            "_view_module_version": "1.2.0",
            "_view_name": "LayoutView",
            "align_content": null,
            "align_items": null,
            "align_self": null,
            "border": null,
            "bottom": null,
            "display": null,
            "flex": null,
            "flex_flow": null,
            "grid_area": null,
            "grid_auto_columns": null,
            "grid_auto_flow": null,
            "grid_auto_rows": null,
            "grid_column": null,
            "grid_gap": null,
            "grid_row": null,
            "grid_template_areas": null,
            "grid_template_columns": null,
            "grid_template_rows": null,
            "height": null,
            "justify_content": null,
            "justify_items": null,
            "left": null,
            "margin": null,
            "max_height": null,
            "max_width": null,
            "min_height": null,
            "min_width": null,
            "object_fit": null,
            "object_position": null,
            "order": null,
            "overflow": null,
            "overflow_x": null,
            "overflow_y": null,
            "padding": null,
            "right": null,
            "top": null,
            "visibility": null,
            "width": null
          }
        },
        "5c9ba4aa9daf457cac034d57e8a34c23": {
          "model_module": "@jupyter-widgets/controls",
          "model_name": "DescriptionStyleModel",
          "model_module_version": "1.5.0",
          "state": {
            "_model_module": "@jupyter-widgets/controls",
            "_model_module_version": "1.5.0",
            "_model_name": "DescriptionStyleModel",
            "_view_count": null,
            "_view_module": "@jupyter-widgets/base",
            "_view_module_version": "1.2.0",
            "_view_name": "StyleView",
            "description_width": ""
          }
        }
      }
    }
  },
  "cells": [
    {
      "cell_type": "markdown",
      "source": [
        "# **데이터 17000개 (하이닥, 지식in)**\n"
      ],
      "metadata": {
        "id": "eeRunlalG7X5"
      }
    },
    {
      "cell_type": "code",
      "source": [
        "from google.colab import drive\n",
        "drive.mount('/content/drive')"
      ],
      "metadata": {
        "colab": {
          "base_uri": "https://localhost:8080/"
        },
        "id": "cPPQBSGWDZDB",
        "outputId": "73b18124-f8d7-4598-b334-d2f9ce2bcfbf"
      },
      "execution_count": null,
      "outputs": [
        {
          "output_type": "stream",
          "name": "stdout",
          "text": [
            "Mounted at /content/drive\n"
          ]
        }
      ]
    },
    {
      "cell_type": "code",
      "execution_count": null,
      "metadata": {
        "colab": {
          "base_uri": "https://localhost:8080/"
        },
        "id": "a072RH6Cq4L9",
        "outputId": "469ed0a0-9f67-4c5a-f9f8-ad097e30fdc0"
      },
      "outputs": [
        {
          "output_type": "stream",
          "name": "stdout",
          "text": [
            "Looking in indexes: https://pypi.org/simple, https://us-python.pkg.dev/colab-wheels/public/simple/\n",
            "Collecting transformers\n",
            "  Downloading transformers-4.22.2-py3-none-any.whl (4.9 MB)\n",
            "\u001b[K     |████████████████████████████████| 4.9 MB 5.2 MB/s \n",
            "\u001b[?25hRequirement already satisfied: numpy>=1.17 in /usr/local/lib/python3.7/dist-packages (from transformers) (1.21.6)\n",
            "Collecting tokenizers!=0.11.3,<0.13,>=0.11.1\n",
            "  Downloading tokenizers-0.12.1-cp37-cp37m-manylinux_2_12_x86_64.manylinux2010_x86_64.whl (6.6 MB)\n",
            "\u001b[K     |████████████████████████████████| 6.6 MB 45.8 MB/s \n",
            "\u001b[?25hRequirement already satisfied: requests in /usr/local/lib/python3.7/dist-packages (from transformers) (2.23.0)\n",
            "Requirement already satisfied: importlib-metadata in /usr/local/lib/python3.7/dist-packages (from transformers) (4.12.0)\n",
            "Requirement already satisfied: filelock in /usr/local/lib/python3.7/dist-packages (from transformers) (3.8.0)\n",
            "Requirement already satisfied: tqdm>=4.27 in /usr/local/lib/python3.7/dist-packages (from transformers) (4.64.1)\n",
            "Requirement already satisfied: regex!=2019.12.17 in /usr/local/lib/python3.7/dist-packages (from transformers) (2022.6.2)\n",
            "Requirement already satisfied: pyyaml>=5.1 in /usr/local/lib/python3.7/dist-packages (from transformers) (6.0)\n",
            "Collecting huggingface-hub<1.0,>=0.9.0\n",
            "  Downloading huggingface_hub-0.10.0-py3-none-any.whl (163 kB)\n",
            "\u001b[K     |████████████████████████████████| 163 kB 74.2 MB/s \n",
            "\u001b[?25hRequirement already satisfied: packaging>=20.0 in /usr/local/lib/python3.7/dist-packages (from transformers) (21.3)\n",
            "Requirement already satisfied: typing-extensions>=3.7.4.3 in /usr/local/lib/python3.7/dist-packages (from huggingface-hub<1.0,>=0.9.0->transformers) (4.1.1)\n",
            "Requirement already satisfied: pyparsing!=3.0.5,>=2.0.2 in /usr/local/lib/python3.7/dist-packages (from packaging>=20.0->transformers) (3.0.9)\n",
            "Requirement already satisfied: zipp>=0.5 in /usr/local/lib/python3.7/dist-packages (from importlib-metadata->transformers) (3.8.1)\n",
            "Requirement already satisfied: certifi>=2017.4.17 in /usr/local/lib/python3.7/dist-packages (from requests->transformers) (2022.6.15)\n",
            "Requirement already satisfied: chardet<4,>=3.0.2 in /usr/local/lib/python3.7/dist-packages (from requests->transformers) (3.0.4)\n",
            "Requirement already satisfied: urllib3!=1.25.0,!=1.25.1,<1.26,>=1.21.1 in /usr/local/lib/python3.7/dist-packages (from requests->transformers) (1.24.3)\n",
            "Requirement already satisfied: idna<3,>=2.5 in /usr/local/lib/python3.7/dist-packages (from requests->transformers) (2.10)\n",
            "Installing collected packages: tokenizers, huggingface-hub, transformers\n",
            "Successfully installed huggingface-hub-0.10.0 tokenizers-0.12.1 transformers-4.22.2\n"
          ]
        }
      ],
      "source": [
        "!pip install transformers"
      ]
    },
    {
      "cell_type": "code",
      "source": [
        "import transformers\n",
        "transformers.__version__"
      ],
      "metadata": {
        "colab": {
          "base_uri": "https://localhost:8080/",
          "height": 36
        },
        "id": "EGaU00y9sJZ_",
        "outputId": "af2e1e93-5ee1-48f1-d37f-00fdafbe8e6a"
      },
      "execution_count": null,
      "outputs": [
        {
          "output_type": "execute_result",
          "data": {
            "text/plain": [
              "'4.22.2'"
            ],
            "application/vnd.google.colaboratory.intrinsic+json": {
              "type": "string"
            }
          },
          "metadata": {},
          "execution_count": 3
        }
      ]
    },
    {
      "cell_type": "code",
      "source": [
        "import pandas as pd\n",
        "import numpy as np\n",
        "import urllib.request\n",
        "import os\n",
        "from tqdm import tqdm\n",
        "import tensorflow as tf\n",
        "from transformers import AutoTokenizer, TFGPT2Model\n",
        "from tensorflow.keras.preprocessing.sequence import pad_sequences"
      ],
      "metadata": {
        "id": "UBgAvV1BsNXS"
      },
      "execution_count": null,
      "outputs": []
    },
    {
      "cell_type": "code",
      "source": [
        "df = pd.read_csv(\"/content/drive/MyDrive/sw전문인재양성프로그램/1차미니프로젝트(질병진단)/중복제거증상찐찐찐최종.csv\")\n",
        "df.head(10)"
      ],
      "metadata": {
        "colab": {
          "base_uri": "https://localhost:8080/",
          "height": 363
        },
        "id": "_pmBltCNsU60",
        "outputId": "3e0c3727-a191-4af1-ebe2-c82873fc8a6c"
      },
      "execution_count": null,
      "outputs": [
        {
          "output_type": "execute_result",
          "data": {
            "text/plain": [
              "                                             symptom label\n",
              "0  어제 감기 기운이 있었습니다증상은 콧물 재취기 코막힘과 더불어 입안 양쪽 입볼쪽이 ...    감기\n",
              "1  한 2주 좀 전부터 감기 걸렸을때처럼 몸살기가 생겨서 없어지지가 않습니다꾸준히 몸이...    감기\n",
              "2  4시간 전부터 몸이 살짝 으슬으슬하더니 근육통이 올거 같은 느낌이었습니다 2시간 전...    독감\n",
              "3  4시간 전 으슬으슬한 기운과 근육통이 오는거 같은 기분이었습니다 2시간 전 으슬으슬...    독감\n",
              "4  14개월 아기입니다  감기기운 발열 콧물 기침 있어 처방받았는데요보통 해열제는 38...    감기\n",
              "5  지난1주일 약복용후 다나은듯 싶더니 갑자기 열이올라약을 다시 처방받았습니다1일 복용...    감기\n",
              "6  안녕하세요 약 12달 전 코감기로 고생했습니다 코감기 때문에 왼쪽 귀도 먹먹했었습니...    감기\n",
              "7  지난주 목감기가래 기침일주일 약복용후 어느정도 나았습니다 어제 점심까지 약 다복용하...    감기\n",
              "8  이번에 격리되며 갑자기 새벽에 한번씩 호흡이힘들어지고그러다 이번에 하루는 새벽내내 ...    감기\n",
              "9  목감기 목간질간질 마른기침 두통으로 약 처방받음현재는 두통없고 마른기침만 있음 제가...    감기"
            ],
            "text/html": [
              "\n",
              "  <div id=\"df-cd42d15a-099f-4f8b-9852-a4567492fa15\">\n",
              "    <div class=\"colab-df-container\">\n",
              "      <div>\n",
              "<style scoped>\n",
              "    .dataframe tbody tr th:only-of-type {\n",
              "        vertical-align: middle;\n",
              "    }\n",
              "\n",
              "    .dataframe tbody tr th {\n",
              "        vertical-align: top;\n",
              "    }\n",
              "\n",
              "    .dataframe thead th {\n",
              "        text-align: right;\n",
              "    }\n",
              "</style>\n",
              "<table border=\"1\" class=\"dataframe\">\n",
              "  <thead>\n",
              "    <tr style=\"text-align: right;\">\n",
              "      <th></th>\n",
              "      <th>symptom</th>\n",
              "      <th>label</th>\n",
              "    </tr>\n",
              "  </thead>\n",
              "  <tbody>\n",
              "    <tr>\n",
              "      <th>0</th>\n",
              "      <td>어제 감기 기운이 있었습니다증상은 콧물 재취기 코막힘과 더불어 입안 양쪽 입볼쪽이 ...</td>\n",
              "      <td>감기</td>\n",
              "    </tr>\n",
              "    <tr>\n",
              "      <th>1</th>\n",
              "      <td>한 2주 좀 전부터 감기 걸렸을때처럼 몸살기가 생겨서 없어지지가 않습니다꾸준히 몸이...</td>\n",
              "      <td>감기</td>\n",
              "    </tr>\n",
              "    <tr>\n",
              "      <th>2</th>\n",
              "      <td>4시간 전부터 몸이 살짝 으슬으슬하더니 근육통이 올거 같은 느낌이었습니다 2시간 전...</td>\n",
              "      <td>독감</td>\n",
              "    </tr>\n",
              "    <tr>\n",
              "      <th>3</th>\n",
              "      <td>4시간 전 으슬으슬한 기운과 근육통이 오는거 같은 기분이었습니다 2시간 전 으슬으슬...</td>\n",
              "      <td>독감</td>\n",
              "    </tr>\n",
              "    <tr>\n",
              "      <th>4</th>\n",
              "      <td>14개월 아기입니다  감기기운 발열 콧물 기침 있어 처방받았는데요보통 해열제는 38...</td>\n",
              "      <td>감기</td>\n",
              "    </tr>\n",
              "    <tr>\n",
              "      <th>5</th>\n",
              "      <td>지난1주일 약복용후 다나은듯 싶더니 갑자기 열이올라약을 다시 처방받았습니다1일 복용...</td>\n",
              "      <td>감기</td>\n",
              "    </tr>\n",
              "    <tr>\n",
              "      <th>6</th>\n",
              "      <td>안녕하세요 약 12달 전 코감기로 고생했습니다 코감기 때문에 왼쪽 귀도 먹먹했었습니...</td>\n",
              "      <td>감기</td>\n",
              "    </tr>\n",
              "    <tr>\n",
              "      <th>7</th>\n",
              "      <td>지난주 목감기가래 기침일주일 약복용후 어느정도 나았습니다 어제 점심까지 약 다복용하...</td>\n",
              "      <td>감기</td>\n",
              "    </tr>\n",
              "    <tr>\n",
              "      <th>8</th>\n",
              "      <td>이번에 격리되며 갑자기 새벽에 한번씩 호흡이힘들어지고그러다 이번에 하루는 새벽내내 ...</td>\n",
              "      <td>감기</td>\n",
              "    </tr>\n",
              "    <tr>\n",
              "      <th>9</th>\n",
              "      <td>목감기 목간질간질 마른기침 두통으로 약 처방받음현재는 두통없고 마른기침만 있음 제가...</td>\n",
              "      <td>감기</td>\n",
              "    </tr>\n",
              "  </tbody>\n",
              "</table>\n",
              "</div>\n",
              "      <button class=\"colab-df-convert\" onclick=\"convertToInteractive('df-cd42d15a-099f-4f8b-9852-a4567492fa15')\"\n",
              "              title=\"Convert this dataframe to an interactive table.\"\n",
              "              style=\"display:none;\">\n",
              "        \n",
              "  <svg xmlns=\"http://www.w3.org/2000/svg\" height=\"24px\"viewBox=\"0 0 24 24\"\n",
              "       width=\"24px\">\n",
              "    <path d=\"M0 0h24v24H0V0z\" fill=\"none\"/>\n",
              "    <path d=\"M18.56 5.44l.94 2.06.94-2.06 2.06-.94-2.06-.94-.94-2.06-.94 2.06-2.06.94zm-11 1L8.5 8.5l.94-2.06 2.06-.94-2.06-.94L8.5 2.5l-.94 2.06-2.06.94zm10 10l.94 2.06.94-2.06 2.06-.94-2.06-.94-.94-2.06-.94 2.06-2.06.94z\"/><path d=\"M17.41 7.96l-1.37-1.37c-.4-.4-.92-.59-1.43-.59-.52 0-1.04.2-1.43.59L10.3 9.45l-7.72 7.72c-.78.78-.78 2.05 0 2.83L4 21.41c.39.39.9.59 1.41.59.51 0 1.02-.2 1.41-.59l7.78-7.78 2.81-2.81c.8-.78.8-2.07 0-2.86zM5.41 20L4 18.59l7.72-7.72 1.47 1.35L5.41 20z\"/>\n",
              "  </svg>\n",
              "      </button>\n",
              "      \n",
              "  <style>\n",
              "    .colab-df-container {\n",
              "      display:flex;\n",
              "      flex-wrap:wrap;\n",
              "      gap: 12px;\n",
              "    }\n",
              "\n",
              "    .colab-df-convert {\n",
              "      background-color: #E8F0FE;\n",
              "      border: none;\n",
              "      border-radius: 50%;\n",
              "      cursor: pointer;\n",
              "      display: none;\n",
              "      fill: #1967D2;\n",
              "      height: 32px;\n",
              "      padding: 0 0 0 0;\n",
              "      width: 32px;\n",
              "    }\n",
              "\n",
              "    .colab-df-convert:hover {\n",
              "      background-color: #E2EBFA;\n",
              "      box-shadow: 0px 1px 2px rgba(60, 64, 67, 0.3), 0px 1px 3px 1px rgba(60, 64, 67, 0.15);\n",
              "      fill: #174EA6;\n",
              "    }\n",
              "\n",
              "    [theme=dark] .colab-df-convert {\n",
              "      background-color: #3B4455;\n",
              "      fill: #D2E3FC;\n",
              "    }\n",
              "\n",
              "    [theme=dark] .colab-df-convert:hover {\n",
              "      background-color: #434B5C;\n",
              "      box-shadow: 0px 1px 3px 1px rgba(0, 0, 0, 0.15);\n",
              "      filter: drop-shadow(0px 1px 2px rgba(0, 0, 0, 0.3));\n",
              "      fill: #FFFFFF;\n",
              "    }\n",
              "  </style>\n",
              "\n",
              "      <script>\n",
              "        const buttonEl =\n",
              "          document.querySelector('#df-cd42d15a-099f-4f8b-9852-a4567492fa15 button.colab-df-convert');\n",
              "        buttonEl.style.display =\n",
              "          google.colab.kernel.accessAllowed ? 'block' : 'none';\n",
              "\n",
              "        async function convertToInteractive(key) {\n",
              "          const element = document.querySelector('#df-cd42d15a-099f-4f8b-9852-a4567492fa15');\n",
              "          const dataTable =\n",
              "            await google.colab.kernel.invokeFunction('convertToInteractive',\n",
              "                                                     [key], {});\n",
              "          if (!dataTable) return;\n",
              "\n",
              "          const docLinkHtml = 'Like what you see? Visit the ' +\n",
              "            '<a target=\"_blank\" href=https://colab.research.google.com/notebooks/data_table.ipynb>data table notebook</a>'\n",
              "            + ' to learn more about interactive tables.';\n",
              "          element.innerHTML = '';\n",
              "          dataTable['output_type'] = 'display_data';\n",
              "          await google.colab.output.renderOutput(dataTable, element);\n",
              "          const docLink = document.createElement('div');\n",
              "          docLink.innerHTML = docLinkHtml;\n",
              "          element.appendChild(docLink);\n",
              "        }\n",
              "      </script>\n",
              "    </div>\n",
              "  </div>\n",
              "  "
            ]
          },
          "metadata": {},
          "execution_count": 5
        }
      ]
    },
    {
      "cell_type": "code",
      "source": [
        "df.loc[(df['label'] == \"감기\"), 'label'] = 0\n",
        "df.loc[(df['label'] == \"폐렴\"), 'label'] = 1\n",
        "df.loc[(df['label'] == \"독감\"), 'label'] = 2\n",
        "df.loc[(df['label'] == \"과호흡\"), 'label'] = 3\n",
        "df.loc[(df['label'] == \"장염\"), 'label'] = 4\n",
        "df.loc[(df['label'] == \"대장염\"), 'label'] = 5\n",
        "df.loc[(df['label'] == \"고혈압\"), 'label'] = 6\n",
        "df.loc[(df['label'] == \"협심증\"), 'label'] = 7\n",
        "df.loc[(df['label'] == \"심근경색\"), 'label'] = 8\n",
        "df.loc[(df['label'] == \"공황장애\"), 'label'] = 9"
      ],
      "metadata": {
        "id": "oP1OywdnF8d8"
      },
      "execution_count": null,
      "outputs": []
    },
    {
      "cell_type": "code",
      "source": [
        "df.head()"
      ],
      "metadata": {
        "colab": {
          "base_uri": "https://localhost:8080/",
          "height": 206
        },
        "id": "8-iydWJEGJ-B",
        "outputId": "64c37870-8a3f-4fa3-f829-448d29a8cf53"
      },
      "execution_count": null,
      "outputs": [
        {
          "output_type": "execute_result",
          "data": {
            "text/plain": [
              "                                             symptom label\n",
              "0  어제 감기 기운이 있었습니다증상은 콧물 재취기 코막힘과 더불어 입안 양쪽 입볼쪽이 ...     0\n",
              "1  한 2주 좀 전부터 감기 걸렸을때처럼 몸살기가 생겨서 없어지지가 않습니다꾸준히 몸이...     0\n",
              "2  4시간 전부터 몸이 살짝 으슬으슬하더니 근육통이 올거 같은 느낌이었습니다 2시간 전...     2\n",
              "3  4시간 전 으슬으슬한 기운과 근육통이 오는거 같은 기분이었습니다 2시간 전 으슬으슬...     2\n",
              "4  14개월 아기입니다  감기기운 발열 콧물 기침 있어 처방받았는데요보통 해열제는 38...     0"
            ],
            "text/html": [
              "\n",
              "  <div id=\"df-07255357-3347-4741-b7dc-b2dc17303710\">\n",
              "    <div class=\"colab-df-container\">\n",
              "      <div>\n",
              "<style scoped>\n",
              "    .dataframe tbody tr th:only-of-type {\n",
              "        vertical-align: middle;\n",
              "    }\n",
              "\n",
              "    .dataframe tbody tr th {\n",
              "        vertical-align: top;\n",
              "    }\n",
              "\n",
              "    .dataframe thead th {\n",
              "        text-align: right;\n",
              "    }\n",
              "</style>\n",
              "<table border=\"1\" class=\"dataframe\">\n",
              "  <thead>\n",
              "    <tr style=\"text-align: right;\">\n",
              "      <th></th>\n",
              "      <th>symptom</th>\n",
              "      <th>label</th>\n",
              "    </tr>\n",
              "  </thead>\n",
              "  <tbody>\n",
              "    <tr>\n",
              "      <th>0</th>\n",
              "      <td>어제 감기 기운이 있었습니다증상은 콧물 재취기 코막힘과 더불어 입안 양쪽 입볼쪽이 ...</td>\n",
              "      <td>0</td>\n",
              "    </tr>\n",
              "    <tr>\n",
              "      <th>1</th>\n",
              "      <td>한 2주 좀 전부터 감기 걸렸을때처럼 몸살기가 생겨서 없어지지가 않습니다꾸준히 몸이...</td>\n",
              "      <td>0</td>\n",
              "    </tr>\n",
              "    <tr>\n",
              "      <th>2</th>\n",
              "      <td>4시간 전부터 몸이 살짝 으슬으슬하더니 근육통이 올거 같은 느낌이었습니다 2시간 전...</td>\n",
              "      <td>2</td>\n",
              "    </tr>\n",
              "    <tr>\n",
              "      <th>3</th>\n",
              "      <td>4시간 전 으슬으슬한 기운과 근육통이 오는거 같은 기분이었습니다 2시간 전 으슬으슬...</td>\n",
              "      <td>2</td>\n",
              "    </tr>\n",
              "    <tr>\n",
              "      <th>4</th>\n",
              "      <td>14개월 아기입니다  감기기운 발열 콧물 기침 있어 처방받았는데요보통 해열제는 38...</td>\n",
              "      <td>0</td>\n",
              "    </tr>\n",
              "  </tbody>\n",
              "</table>\n",
              "</div>\n",
              "      <button class=\"colab-df-convert\" onclick=\"convertToInteractive('df-07255357-3347-4741-b7dc-b2dc17303710')\"\n",
              "              title=\"Convert this dataframe to an interactive table.\"\n",
              "              style=\"display:none;\">\n",
              "        \n",
              "  <svg xmlns=\"http://www.w3.org/2000/svg\" height=\"24px\"viewBox=\"0 0 24 24\"\n",
              "       width=\"24px\">\n",
              "    <path d=\"M0 0h24v24H0V0z\" fill=\"none\"/>\n",
              "    <path d=\"M18.56 5.44l.94 2.06.94-2.06 2.06-.94-2.06-.94-.94-2.06-.94 2.06-2.06.94zm-11 1L8.5 8.5l.94-2.06 2.06-.94-2.06-.94L8.5 2.5l-.94 2.06-2.06.94zm10 10l.94 2.06.94-2.06 2.06-.94-2.06-.94-.94-2.06-.94 2.06-2.06.94z\"/><path d=\"M17.41 7.96l-1.37-1.37c-.4-.4-.92-.59-1.43-.59-.52 0-1.04.2-1.43.59L10.3 9.45l-7.72 7.72c-.78.78-.78 2.05 0 2.83L4 21.41c.39.39.9.59 1.41.59.51 0 1.02-.2 1.41-.59l7.78-7.78 2.81-2.81c.8-.78.8-2.07 0-2.86zM5.41 20L4 18.59l7.72-7.72 1.47 1.35L5.41 20z\"/>\n",
              "  </svg>\n",
              "      </button>\n",
              "      \n",
              "  <style>\n",
              "    .colab-df-container {\n",
              "      display:flex;\n",
              "      flex-wrap:wrap;\n",
              "      gap: 12px;\n",
              "    }\n",
              "\n",
              "    .colab-df-convert {\n",
              "      background-color: #E8F0FE;\n",
              "      border: none;\n",
              "      border-radius: 50%;\n",
              "      cursor: pointer;\n",
              "      display: none;\n",
              "      fill: #1967D2;\n",
              "      height: 32px;\n",
              "      padding: 0 0 0 0;\n",
              "      width: 32px;\n",
              "    }\n",
              "\n",
              "    .colab-df-convert:hover {\n",
              "      background-color: #E2EBFA;\n",
              "      box-shadow: 0px 1px 2px rgba(60, 64, 67, 0.3), 0px 1px 3px 1px rgba(60, 64, 67, 0.15);\n",
              "      fill: #174EA6;\n",
              "    }\n",
              "\n",
              "    [theme=dark] .colab-df-convert {\n",
              "      background-color: #3B4455;\n",
              "      fill: #D2E3FC;\n",
              "    }\n",
              "\n",
              "    [theme=dark] .colab-df-convert:hover {\n",
              "      background-color: #434B5C;\n",
              "      box-shadow: 0px 1px 3px 1px rgba(0, 0, 0, 0.15);\n",
              "      filter: drop-shadow(0px 1px 2px rgba(0, 0, 0, 0.3));\n",
              "      fill: #FFFFFF;\n",
              "    }\n",
              "  </style>\n",
              "\n",
              "      <script>\n",
              "        const buttonEl =\n",
              "          document.querySelector('#df-07255357-3347-4741-b7dc-b2dc17303710 button.colab-df-convert');\n",
              "        buttonEl.style.display =\n",
              "          google.colab.kernel.accessAllowed ? 'block' : 'none';\n",
              "\n",
              "        async function convertToInteractive(key) {\n",
              "          const element = document.querySelector('#df-07255357-3347-4741-b7dc-b2dc17303710');\n",
              "          const dataTable =\n",
              "            await google.colab.kernel.invokeFunction('convertToInteractive',\n",
              "                                                     [key], {});\n",
              "          if (!dataTable) return;\n",
              "\n",
              "          const docLinkHtml = 'Like what you see? Visit the ' +\n",
              "            '<a target=\"_blank\" href=https://colab.research.google.com/notebooks/data_table.ipynb>data table notebook</a>'\n",
              "            + ' to learn more about interactive tables.';\n",
              "          element.innerHTML = '';\n",
              "          dataTable['output_type'] = 'display_data';\n",
              "          await google.colab.output.renderOutput(dataTable, element);\n",
              "          const docLink = document.createElement('div');\n",
              "          docLink.innerHTML = docLinkHtml;\n",
              "          element.appendChild(docLink);\n",
              "        }\n",
              "      </script>\n",
              "    </div>\n",
              "  </div>\n",
              "  "
            ]
          },
          "metadata": {},
          "execution_count": 7
        }
      ]
    },
    {
      "cell_type": "code",
      "source": [
        "print(df.iloc[0]['symptom'])"
      ],
      "metadata": {
        "colab": {
          "base_uri": "https://localhost:8080/"
        },
        "id": "hoGE1O1foASI",
        "outputId": "abfa1222-1f1c-4f4a-a847-cda51b94ef6d"
      },
      "execution_count": null,
      "outputs": [
        {
          "output_type": "stream",
          "name": "stdout",
          "text": [
            "어제 감기 기운이 있었습니다증상은 콧물 재취기 코막힘과 더불어 입안 양쪽 입볼쪽이 계속 마르는 느낌이 들어 물이 계속 먹고 싶고어제 오늘 변이 딱딱하게 나와 변이 휴지에 닦이지가 않네요이럴땐 어떻게 해야 하나요 코감기로 나오는 하이투벤이 있는데 그걸 먹으니 코쪽 증상은 완화가 되었는데 입안은 여전히 말라요\n"
          ]
        }
      ]
    },
    {
      "cell_type": "code",
      "source": [
        "# from sklearn.model_selection import train_test_split\n",
        "\n",
        "# X = df['symptom']\n",
        "# y = df['label'].astype(float)\n",
        "# X_train, X_test, y_train, y_test = train_test_split(X, y, test_size = 0.3, random_state = 11)"
      ],
      "metadata": {
        "id": "PHM2f9rxc0Uc"
      },
      "execution_count": null,
      "outputs": []
    },
    {
      "cell_type": "code",
      "source": [
        "# print('X학습 데이터의 수 :', X_train.shape[0])\n",
        "# print('Y학습 데이터의 수 :', y_train.shape[0])\n",
        "# print('X테스트 데이터의 수 :', X_test.shape[0])\n",
        "# print('Y테스트 데이터의 수 :', y_test.shape[0])"
      ],
      "metadata": {
        "colab": {
          "base_uri": "https://localhost:8080/"
        },
        "id": "zW3Md_wFc6j5",
        "outputId": "f67c1a89-f2f3-4c87-ec82-f1a8a5d2fcfb"
      },
      "execution_count": null,
      "outputs": [
        {
          "output_type": "stream",
          "name": "stdout",
          "text": [
            "X학습 데이터의 수 : 9904\n",
            "Y학습 데이터의 수 : 9904\n",
            "X테스트 데이터의 수 : 4245\n",
            "Y테스트 데이터의 수 : 4245\n"
          ]
        }
      ]
    },
    {
      "cell_type": "code",
      "source": [
        "from sklearn.model_selection import train_test_split\n",
        "\n",
        "train_data, test_data = train_test_split(df, test_size = 0.3, random_state = 11)"
      ],
      "metadata": {
        "id": "03fpfrdoh-Jc"
      },
      "execution_count": null,
      "outputs": []
    },
    {
      "cell_type": "code",
      "source": [
        "print(len(train_data))"
      ],
      "metadata": {
        "colab": {
          "base_uri": "https://localhost:8080/"
        },
        "id": "khzxfWLWiKVk",
        "outputId": "31e3a069-2739-42b6-fcca-08a76ba9f826"
      },
      "execution_count": null,
      "outputs": [
        {
          "output_type": "stream",
          "name": "stdout",
          "text": [
            "12021\n"
          ]
        }
      ]
    },
    {
      "cell_type": "code",
      "source": [
        "print(len(test_data))"
      ],
      "metadata": {
        "colab": {
          "base_uri": "https://localhost:8080/"
        },
        "id": "1iu8vMXgiLMB",
        "outputId": "34fc33c8-e88e-44d5-cd4b-2be85ceea9f7"
      },
      "execution_count": null,
      "outputs": [
        {
          "output_type": "stream",
          "name": "stdout",
          "text": [
            "5152\n"
          ]
        }
      ]
    },
    {
      "cell_type": "code",
      "source": [
        "tokenizer = AutoTokenizer.from_pretrained('skt/kogpt2-base-v2', bos_token='</s>', eos_token='</s>', pad_token='<pad>')"
      ],
      "metadata": {
        "colab": {
          "base_uri": "https://localhost:8080/",
          "height": 100,
          "referenced_widgets": [
            "afc4fa5b32804024ba6819ca8da09951",
            "65d7013920534f798a91d10ecdd1b226",
            "9bb5038dbdd44e71a910e1028d898ae6",
            "02429c3d71544819ba77f4ea55095911",
            "018f30203cd2429c93f889d1796197a0",
            "8eb8c32f67464adeb784200f14b59078",
            "acde0172c3914ea99618d978ecb5fd9d",
            "40c4e44f654d45a2b577862bc0894745",
            "e1f652d8de574fa99a77191d3c19eec3",
            "68159e760b8f469a9e94581d8ab97042",
            "4ff93068a9b84ce0aebdf5f752a2ed25",
            "03e97737f7c247828db46f95af9b6f06",
            "8bc72d3536664afe8728b4246a3680c0",
            "8950d306d6854197b60a5bd88c3130ce",
            "7b334184e9924add80b0e592ee7032ab",
            "0cbbba434f0b49d384febc521b3d06ae",
            "059f82ac7e09451ea73194b81c9e9dee",
            "5977f478d28645d8acf3a5a9d965ea15",
            "779a15c06c4b4ea1be81d5bc3ac6a4fd",
            "ff54a733c33147528c9e2fd264cf8b02",
            "2132c93f7a924c01b1ce08dd560f8340",
            "d44a58be9cd849ed91fc4c52d19fa4b4"
          ]
        },
        "id": "8TlhbciMdY6Y",
        "outputId": "9a2ecc5c-7577-4567-d330-ccbcfaa75278"
      },
      "execution_count": null,
      "outputs": [
        {
          "output_type": "display_data",
          "data": {
            "text/plain": [
              "Downloading:   0%|          | 0.00/1.00k [00:00<?, ?B/s]"
            ],
            "application/vnd.jupyter.widget-view+json": {
              "version_major": 2,
              "version_minor": 0,
              "model_id": "afc4fa5b32804024ba6819ca8da09951"
            }
          },
          "metadata": {}
        },
        {
          "output_type": "display_data",
          "data": {
            "text/plain": [
              "Downloading:   0%|          | 0.00/2.83M [00:00<?, ?B/s]"
            ],
            "application/vnd.jupyter.widget-view+json": {
              "version_major": 2,
              "version_minor": 0,
              "model_id": "03e97737f7c247828db46f95af9b6f06"
            }
          },
          "metadata": {}
        },
        {
          "output_type": "stream",
          "name": "stderr",
          "text": [
            "Special tokens have been added in the vocabulary, make sure the associated word embeddings are fine-tuned or trained.\n"
          ]
        }
      ]
    },
    {
      "cell_type": "code",
      "source": [
        "for elem in tokenizer.encode(\"제가 오늘 점심 전부터 배가 미친듯이 아팠거든요\"):\n",
        "  print(tokenizer.decode(elem))"
      ],
      "metadata": {
        "colab": {
          "base_uri": "https://localhost:8080/"
        },
        "id": "DPoREdwMd4ym",
        "outputId": "45c5b0b4-aff9-4a26-fc82-74e122b674bd"
      },
      "execution_count": null,
      "outputs": [
        {
          "output_type": "stream",
          "name": "stdout",
          "text": [
            "제가\n",
            "오늘\n",
            "점\n",
            "심\n",
            "전부터\n",
            "배가\n",
            "미친\n",
            "듯이\n",
            "아\n",
            "팠\n",
            "거든\n",
            "요\n"
          ]
        }
      ]
    },
    {
      "cell_type": "code",
      "source": [
        "print(tokenizer.decode(3))"
      ],
      "metadata": {
        "colab": {
          "base_uri": "https://localhost:8080/"
        },
        "id": "ozo3c5treA1G",
        "outputId": "6c3b8118-eced-4c9c-e929-9bd99d2f3071"
      },
      "execution_count": null,
      "outputs": [
        {
          "output_type": "stream",
          "name": "stdout",
          "text": [
            "<pad>\n"
          ]
        }
      ]
    },
    {
      "cell_type": "code",
      "source": [
        "max_seq_len = 128"
      ],
      "metadata": {
        "id": "DSeaiiq9eOxx"
      },
      "execution_count": null,
      "outputs": []
    },
    {
      "cell_type": "code",
      "source": [
        "encoded_result = tokenizer.encode(\"어제 아침부터 길면 2시간 정도마다 명치 위 갈비쪽이 덜컹거리는게 느껴집니다\", max_length=max_seq_len, pad_to_max_length=True)\n",
        "print(encoded_result)\n",
        "print('길이 :', len(encoded_result))"
      ],
      "metadata": {
        "colab": {
          "base_uri": "https://localhost:8080/"
        },
        "id": "AHpJIT4OeQ-s",
        "outputId": "598c134d-766c-4328-b3b7-16fa0589baab"
      },
      "execution_count": null,
      "outputs": [
        {
          "output_type": "stream",
          "name": "stderr",
          "text": [
            "Truncation was not explicitly activated but `max_length` is provided a specific value, please use `truncation=True` to explicitly truncate examples to max length. Defaulting to 'longest_first' truncation strategy. If you encode pairs of sequences (GLUE-style) with the tokenizer you can select this strategy more precisely by providing a specific strategy to `truncation`.\n"
          ]
        },
        {
          "output_type": "stream",
          "name": "stdout",
          "text": [
            "[48101, 17339, 9148, 9367, 7532, 42411, 9465, 10134, 9170, 8420, 9056, 9546, 7692, 8306, 8146, 15748, 8455, 17511, 6866, 17449, 8270, 7172, 7182, 3, 3, 3, 3, 3, 3, 3, 3, 3, 3, 3, 3, 3, 3, 3, 3, 3, 3, 3, 3, 3, 3, 3, 3, 3, 3, 3, 3, 3, 3, 3, 3, 3, 3, 3, 3, 3, 3, 3, 3, 3, 3, 3, 3, 3, 3, 3, 3, 3, 3, 3, 3, 3, 3, 3, 3, 3, 3, 3, 3, 3, 3, 3, 3, 3, 3, 3, 3, 3, 3, 3, 3, 3, 3, 3, 3, 3, 3, 3, 3, 3, 3, 3, 3, 3, 3, 3, 3, 3, 3, 3, 3, 3, 3, 3, 3, 3, 3, 3, 3, 3, 3, 3, 3, 3]\n",
            "길이 : 128\n"
          ]
        },
        {
          "output_type": "stream",
          "name": "stderr",
          "text": [
            "/usr/local/lib/python3.7/dist-packages/transformers/tokenization_utils_base.py:2308: FutureWarning: The `pad_to_max_length` argument is deprecated and will be removed in a future version, use `padding=True` or `padding='longest'` to pad to the longest sequence in the batch, or use `padding='max_length'` to pad to a max length. In this case, you can give a specific length with `max_length` (e.g. `max_length=45`) or leave max_length to None to pad to the maximal input size of the model (e.g. 512 for Bert).\n",
            "  FutureWarning,\n"
          ]
        }
      ]
    },
    {
      "cell_type": "code",
      "source": [
        "def convert_examples_to_features(examples, labels, max_seq_len, tokenizer):\n",
        "\n",
        "    input_ids, data_labels = [], []\n",
        "    \n",
        "    for example, label in tqdm(zip(examples, labels), total=len(examples)):\n",
        "\n",
        "        bos_token = [tokenizer.bos_token]\n",
        "        eos_token = [tokenizer.eos_token]\n",
        "        tokens = bos_token + tokenizer.tokenize(example) + eos_token\n",
        "        input_id = tokenizer.convert_tokens_to_ids(tokens)\n",
        "        input_id = pad_sequences([input_id], maxlen=max_seq_len, value=tokenizer.pad_token_id, padding='post')[0]\n",
        "\n",
        "        assert len(input_id) == max_seq_len, \"Error with input length {} vs {}\".format(len(input_id), max_seq_len)\n",
        "        input_ids.append(input_id)\n",
        "        data_labels.append(label)\n",
        "\n",
        "    input_ids = np.array(input_ids, dtype=int)\n",
        "    data_labels = np.asarray(data_labels, dtype=np.int32)\n",
        "\n",
        "    return input_ids, data_labels"
      ],
      "metadata": {
        "id": "lTDJeexMeXzR"
      },
      "execution_count": null,
      "outputs": []
    },
    {
      "cell_type": "code",
      "source": [
        "train_X, train_y = convert_examples_to_features(train_data['symptom'], train_data['label'], max_seq_len=max_seq_len, tokenizer=tokenizer)"
      ],
      "metadata": {
        "colab": {
          "base_uri": "https://localhost:8080/"
        },
        "id": "bGuLP0VIefYz",
        "outputId": "d6b6d062-f920-4336-af41-b2191639f43b"
      },
      "execution_count": null,
      "outputs": [
        {
          "output_type": "stream",
          "name": "stderr",
          "text": [
            "100%|██████████| 12021/12021 [00:15<00:00, 767.25it/s]\n"
          ]
        }
      ]
    },
    {
      "cell_type": "code",
      "source": [
        "test_X, test_y = convert_examples_to_features(test_data['symptom'], test_data['label'], max_seq_len=max_seq_len, tokenizer=tokenizer)"
      ],
      "metadata": {
        "colab": {
          "base_uri": "https://localhost:8080/"
        },
        "id": "4P9UwkDyeqRQ",
        "outputId": "11d61539-3138-4f52-a6f5-91a20af33882"
      },
      "execution_count": null,
      "outputs": [
        {
          "output_type": "stream",
          "name": "stderr",
          "text": [
            "100%|██████████| 5152/5152 [00:07<00:00, 666.88it/s]\n"
          ]
        }
      ]
    },
    {
      "cell_type": "code",
      "source": [
        "# 최대 길이: 128\n",
        "input_id = train_X[0]\n",
        "label = train_y[0]\n",
        "\n",
        "print('단어에 대한 정수 인코딩 :',input_id)\n",
        "print('각 인코딩의 길이 :', len(input_id))\n",
        "print('정수 인코딩 복원 :',tokenizer.decode(input_id))\n",
        "print('레이블 :',label)"
      ],
      "metadata": {
        "colab": {
          "base_uri": "https://localhost:8080/"
        },
        "id": "gYPx0pJqfCgr",
        "outputId": "e8486e12-fd68-4849-82fa-5b230af2319c"
      },
      "execution_count": null,
      "outputs": [
        {
          "output_type": "stream",
          "name": "stdout",
          "text": [
            "단어에 대한 정수 인코딩 : [ 9030 44792 11437  7812 13097  9080 12250  8615  9239  7220 16898 22227\n",
            "  9285  7607  9596  9620 30040  7530 19896  7217 10828  9265  7482 15396\n",
            "   739  8062  7172  7182  9322  9039  7851 47853 27499 20582  7426   739\n",
            "  8468  8468 18328  9789 15008 27499  9716  9019 16913  7182  7208 13556\n",
            "  9022 41073 12423  9867  9039  7851  9185 17684 10884 13358  8263  9111\n",
            " 16913  7182  7487  8408  9510 10349  9581  8022 12118 12059 11106 39773\n",
            "  9039  7851 20999 12371 15783 15297  8108  6889  9039 14643 10600 19688\n",
            " 12118 12011 35634  9126 16913  7182 25689 14999 10917  9166 18000  9784\n",
            "  9248 12680  7991  9277  6860 14668  8084  9107 18751 10487  9479 11689\n",
            " 17684 29247  9063  8137  7847  9019  7055  8084 48040 32030  9510 16898\n",
            "  9080  6866  9037 37863  9241  7172  7182     1]\n",
            "각 인코딩의 길이 : 128\n",
            "정수 인코딩 복원 : 등받이 쿠션감이 있는 쇼파 같은데 앉아 있어도 금방 허리가 아프며 엉덩이에 저림 증상이 옵니다 또한 시술부위 통증이 바늘로 콕콕 찌르는 듯한 통증이 계속 있습니다더이상 그 병원에 방문해서 시술이나 치료를 받고 싶지 않습니다마취 이상 테스트에 전혀 문제가 없었는데도 시술 받으며 너무 고통스러웠고 시술을 받은 이후에도 전혀 좋아짐이 없습니다 그냥 평생 이렇게 진통제 먹으며 지내야 하는것인가요 통증의학과 에 가서 치료를 받으면 나을수 있나요 의자에 30분 이상 앉아 있는게 제 소원 입니다</s>\n",
            "레이블 : 3\n"
          ]
        }
      ]
    },
    {
      "cell_type": "code",
      "source": [
        "model = TFGPT2Model.from_pretrained('skt/kogpt2-base-v2', from_pt=True)"
      ],
      "metadata": {
        "colab": {
          "base_uri": "https://localhost:8080/",
          "height": 162,
          "referenced_widgets": [
            "de212712b1e74117b2ce0125785e303d",
            "c199ca9e66bd4cab9e6e8b080827fafd",
            "64a36543729949cfbe8d8e4f82633cc2",
            "7b2fc2cc26394e1a8113bebcb905df54",
            "9542c96caa88495f91c4b6948037bc08",
            "996a867d7cc241249ed167d2426d2396",
            "951707e5dc82440693ed3e65c16ca191",
            "d5e945f4f9d644f5bcbdb9d296b85605",
            "d3453c962f2947d08e945b7d3b6b8277",
            "12d278234fb241259bb7be632c483dcc",
            "5c9ba4aa9daf457cac034d57e8a34c23"
          ]
        },
        "id": "NHjUcb5DfK0O",
        "outputId": "25f9dc81-35ef-4fee-ea0e-66b8c76be41b"
      },
      "execution_count": null,
      "outputs": [
        {
          "output_type": "display_data",
          "data": {
            "text/plain": [
              "Downloading:   0%|          | 0.00/513M [00:00<?, ?B/s]"
            ],
            "application/vnd.jupyter.widget-view+json": {
              "version_major": 2,
              "version_minor": 0,
              "model_id": "de212712b1e74117b2ce0125785e303d"
            }
          },
          "metadata": {}
        },
        {
          "output_type": "stream",
          "name": "stderr",
          "text": [
            "Some weights of the PyTorch model were not used when initializing the TF 2.0 model TFGPT2Model: ['transformer.h.10.attn.masked_bias', 'transformer.h.9.attn.masked_bias', 'transformer.h.8.attn.masked_bias', 'transformer.h.1.attn.masked_bias', 'transformer.h.7.attn.masked_bias', 'transformer.h.11.attn.masked_bias', 'transformer.h.3.attn.masked_bias', 'lm_head.weight', 'transformer.h.5.attn.masked_bias', 'transformer.h.0.attn.masked_bias', 'transformer.h.6.attn.masked_bias', 'transformer.h.4.attn.masked_bias', 'transformer.h.2.attn.masked_bias']\n",
            "- This IS expected if you are initializing TFGPT2Model from a PyTorch model trained on another task or with another architecture (e.g. initializing a TFBertForSequenceClassification model from a BertForPreTraining model).\n",
            "- This IS NOT expected if you are initializing TFGPT2Model from a PyTorch model that you expect to be exactly identical (e.g. initializing a TFBertForSequenceClassification model from a BertForSequenceClassification model).\n",
            "All the weights of TFGPT2Model were initialized from the PyTorch model.\n",
            "If your task is similar to the task the model of the checkpoint was trained on, you can already use TFGPT2Model for predictions without further training.\n"
          ]
        }
      ]
    },
    {
      "cell_type": "code",
      "source": [
        "max_seq_len = 128"
      ],
      "metadata": {
        "id": "lUpPwfpFfRsu"
      },
      "execution_count": null,
      "outputs": []
    },
    {
      "cell_type": "code",
      "source": [
        "input_ids_layer = tf.keras.layers.Input(shape=(max_seq_len,), dtype=tf.int32)\n",
        "outputs = model([input_ids_layer])"
      ],
      "metadata": {
        "id": "ipq0JP6CfWQ3"
      },
      "execution_count": null,
      "outputs": []
    },
    {
      "cell_type": "code",
      "source": [
        "print(outputs)"
      ],
      "metadata": {
        "colab": {
          "base_uri": "https://localhost:8080/"
        },
        "id": "LWNAbMSffa38",
        "outputId": "42ca7f65-4f15-4a9a-a918-8a195a06fd0b"
      },
      "execution_count": null,
      "outputs": [
        {
          "output_type": "stream",
          "name": "stdout",
          "text": [
            "TFBaseModelOutputWithPastAndCrossAttentions(last_hidden_state=<KerasTensor: shape=(None, 128, 768) dtype=float32 (created by layer 'tfgpt2_model')>, past_key_values=(<KerasTensor: shape=(2, None, 12, 128, 64) dtype=float32 (created by layer 'tfgpt2_model')>, <KerasTensor: shape=(2, None, 12, 128, 64) dtype=float32 (created by layer 'tfgpt2_model')>, <KerasTensor: shape=(2, None, 12, 128, 64) dtype=float32 (created by layer 'tfgpt2_model')>, <KerasTensor: shape=(2, None, 12, 128, 64) dtype=float32 (created by layer 'tfgpt2_model')>, <KerasTensor: shape=(2, None, 12, 128, 64) dtype=float32 (created by layer 'tfgpt2_model')>, <KerasTensor: shape=(2, None, 12, 128, 64) dtype=float32 (created by layer 'tfgpt2_model')>, <KerasTensor: shape=(2, None, 12, 128, 64) dtype=float32 (created by layer 'tfgpt2_model')>, <KerasTensor: shape=(2, None, 12, 128, 64) dtype=float32 (created by layer 'tfgpt2_model')>, <KerasTensor: shape=(2, None, 12, 128, 64) dtype=float32 (created by layer 'tfgpt2_model')>, <KerasTensor: shape=(2, None, 12, 128, 64) dtype=float32 (created by layer 'tfgpt2_model')>, <KerasTensor: shape=(2, None, 12, 128, 64) dtype=float32 (created by layer 'tfgpt2_model')>, <KerasTensor: shape=(2, None, 12, 128, 64) dtype=float32 (created by layer 'tfgpt2_model')>), hidden_states=None, attentions=None, cross_attentions=None)\n"
          ]
        }
      ]
    },
    {
      "cell_type": "code",
      "source": [
        "class TFGPT2ForSequenceClassification(tf.keras.Model):\n",
        "    def __init__(self, model_name):\n",
        "        super(TFGPT2ForSequenceClassification, self).__init__()\n",
        "        self.gpt = TFGPT2Model.from_pretrained(model_name, from_pt=True)\n",
        "        self.dropout = tf.keras.layers.Dropout(0.2)\n",
        "        self.classifier = tf.keras.layers.Dense(10,\n",
        "                                                kernel_initializer=tf.keras.initializers.TruncatedNormal(0.02),\n",
        "                                                activation='softmax',\n",
        "                                                name='classifier')\n",
        "\n",
        "    def call(self, inputs):\n",
        "        outputs = self.gpt(input_ids=inputs)\n",
        "        cls_token = outputs[0][:, -1]\n",
        "        cls_token = self.dropout(cls_token)\n",
        "        prediction = self.classifier(cls_token)\n",
        "\n",
        "        return prediction"
      ],
      "metadata": {
        "id": "RxY-Rt_efch-"
      },
      "execution_count": null,
      "outputs": []
    },
    {
      "cell_type": "code",
      "source": [
        "# TPU 작동을 위한 코드\n",
        "resolver = tf.distribute.cluster_resolver.TPUClusterResolver(tpu='grpc://' + os.environ['COLAB_TPU_ADDR'])\n",
        "tf.config.experimental_connect_to_cluster(resolver)\n",
        "tf.tpu.experimental.initialize_tpu_system(resolver)"
      ],
      "metadata": {
        "colab": {
          "base_uri": "https://localhost:8080/"
        },
        "id": "G150h8K4focs",
        "outputId": "93ffed31-3438-46a6-f9ce-0e39622d29c3"
      },
      "execution_count": null,
      "outputs": [
        {
          "output_type": "execute_result",
          "data": {
            "text/plain": [
              "<tensorflow.python.tpu.topology.Topology at 0x7f810bd03110>"
            ]
          },
          "metadata": {},
          "execution_count": 27
        }
      ]
    },
    {
      "cell_type": "code",
      "source": [
        "strategy = tf.distribute.experimental.TPUStrategy(resolver)"
      ],
      "metadata": {
        "colab": {
          "base_uri": "https://localhost:8080/"
        },
        "id": "0uv0GkltgFc8",
        "outputId": "54db1003-84cf-4c41-a3af-faebb2579de1"
      },
      "execution_count": null,
      "outputs": [
        {
          "output_type": "stream",
          "name": "stderr",
          "text": [
            "WARNING:absl:`tf.distribute.experimental.TPUStrategy` is deprecated, please use  the non experimental symbol `tf.distribute.TPUStrategy` instead.\n"
          ]
        }
      ]
    },
    {
      "cell_type": "code",
      "source": [
        "with strategy.scope():\n",
        "  model = TFGPT2ForSequenceClassification(\"skt/kogpt2-base-v2\")\n",
        "  optimizer = tf.keras.optimizers.Adam(learning_rate=5e-5)\n",
        "  loss = tf.keras.losses.SparseCategoricalCrossentropy()\n",
        "  model.compile(optimizer=optimizer, loss=loss, metrics = ['accuracy'])"
      ],
      "metadata": {
        "colab": {
          "base_uri": "https://localhost:8080/"
        },
        "id": "DI9wDl4VgLR5",
        "outputId": "255a5478-6a7d-432a-d3da-e93e7879353c"
      },
      "execution_count": null,
      "outputs": [
        {
          "output_type": "stream",
          "name": "stderr",
          "text": [
            "Some weights of the PyTorch model were not used when initializing the TF 2.0 model TFGPT2Model: ['transformer.h.10.attn.masked_bias', 'transformer.h.9.attn.masked_bias', 'transformer.h.8.attn.masked_bias', 'transformer.h.1.attn.masked_bias', 'transformer.h.7.attn.masked_bias', 'transformer.h.11.attn.masked_bias', 'transformer.h.3.attn.masked_bias', 'lm_head.weight', 'transformer.h.5.attn.masked_bias', 'transformer.h.0.attn.masked_bias', 'transformer.h.6.attn.masked_bias', 'transformer.h.4.attn.masked_bias', 'transformer.h.2.attn.masked_bias']\n",
            "- This IS expected if you are initializing TFGPT2Model from a PyTorch model trained on another task or with another architecture (e.g. initializing a TFBertForSequenceClassification model from a BertForPreTraining model).\n",
            "- This IS NOT expected if you are initializing TFGPT2Model from a PyTorch model that you expect to be exactly identical (e.g. initializing a TFBertForSequenceClassification model from a BertForSequenceClassification model).\n",
            "All the weights of TFGPT2Model were initialized from the PyTorch model.\n",
            "If your task is similar to the task the model of the checkpoint was trained on, you can already use TFGPT2Model for predictions without further training.\n"
          ]
        }
      ]
    },
    {
      "cell_type": "markdown",
      "source": [
        "# **에포크 50**\n"
      ],
      "metadata": {
        "id": "G0R_gGGF1hUi"
      }
    },
    {
      "cell_type": "code",
      "source": [
        "history = model.fit(train_X, train_y, epochs=50, batch_size=32, validation_split=0.2)"
      ],
      "metadata": {
        "colab": {
          "base_uri": "https://localhost:8080/"
        },
        "id": "LpXdMxubgQW_",
        "outputId": "4b73b1f9-12ce-402f-a6fe-b31bea5f080c"
      },
      "execution_count": null,
      "outputs": [
        {
          "output_type": "stream",
          "name": "stdout",
          "text": [
            "Epoch 1/50\n",
            "301/301 [==============================] - 147s 246ms/step - loss: 1.0313 - accuracy: 0.6831 - val_loss: 0.6123 - val_accuracy: 0.8075\n",
            "Epoch 2/50\n",
            "301/301 [==============================] - 24s 81ms/step - loss: 0.5763 - accuracy: 0.8091 - val_loss: 0.5793 - val_accuracy: 0.8071\n",
            "Epoch 3/50\n",
            "301/301 [==============================] - 25s 83ms/step - loss: 0.4860 - accuracy: 0.8362 - val_loss: 0.5577 - val_accuracy: 0.8129\n",
            "Epoch 4/50\n",
            "301/301 [==============================] - 25s 82ms/step - loss: 0.3990 - accuracy: 0.8610 - val_loss: 0.6013 - val_accuracy: 0.8212\n",
            "Epoch 5/50\n",
            "301/301 [==============================] - 25s 83ms/step - loss: 0.3284 - accuracy: 0.8886 - val_loss: 0.6158 - val_accuracy: 0.8116\n",
            "Epoch 6/50\n",
            "301/301 [==============================] - 25s 82ms/step - loss: 0.2401 - accuracy: 0.9173 - val_loss: 0.7137 - val_accuracy: 0.8125\n",
            "Epoch 7/50\n",
            "301/301 [==============================] - 25s 82ms/step - loss: 0.1715 - accuracy: 0.9429 - val_loss: 0.8126 - val_accuracy: 0.8083\n",
            "Epoch 8/50\n",
            "301/301 [==============================] - 25s 82ms/step - loss: 0.1186 - accuracy: 0.9614 - val_loss: 1.0204 - val_accuracy: 0.8096\n",
            "Epoch 9/50\n",
            "301/301 [==============================] - 25s 82ms/step - loss: 0.0988 - accuracy: 0.9657 - val_loss: 0.9611 - val_accuracy: 0.7967\n",
            "Epoch 10/50\n",
            "301/301 [==============================] - 25s 82ms/step - loss: 0.0856 - accuracy: 0.9721 - val_loss: 1.0415 - val_accuracy: 0.8067\n",
            "Epoch 11/50\n",
            "301/301 [==============================] - 25s 83ms/step - loss: 0.0726 - accuracy: 0.9765 - val_loss: 1.2971 - val_accuracy: 0.7859\n",
            "Epoch 12/50\n",
            "301/301 [==============================] - 25s 82ms/step - loss: 0.0514 - accuracy: 0.9827 - val_loss: 1.1624 - val_accuracy: 0.8058\n",
            "Epoch 13/50\n",
            "301/301 [==============================] - 25s 82ms/step - loss: 0.0566 - accuracy: 0.9812 - val_loss: 1.2004 - val_accuracy: 0.8062\n",
            "Epoch 14/50\n",
            "301/301 [==============================] - 25s 82ms/step - loss: 0.0405 - accuracy: 0.9885 - val_loss: 1.3311 - val_accuracy: 0.7888\n",
            "Epoch 15/50\n",
            "301/301 [==============================] - 25s 82ms/step - loss: 0.0324 - accuracy: 0.9897 - val_loss: 1.4124 - val_accuracy: 0.8000\n",
            "Epoch 16/50\n",
            "301/301 [==============================] - 25s 84ms/step - loss: 0.0373 - accuracy: 0.9879 - val_loss: 1.4504 - val_accuracy: 0.8021\n",
            "Epoch 17/50\n",
            "301/301 [==============================] - 25s 82ms/step - loss: 0.0560 - accuracy: 0.9825 - val_loss: 1.2561 - val_accuracy: 0.8054\n",
            "Epoch 18/50\n",
            "301/301 [==============================] - 25s 82ms/step - loss: 0.0311 - accuracy: 0.9910 - val_loss: 1.3909 - val_accuracy: 0.7921\n",
            "Epoch 19/50\n",
            "301/301 [==============================] - 25s 83ms/step - loss: 0.0388 - accuracy: 0.9873 - val_loss: 1.2885 - val_accuracy: 0.8008\n",
            "Epoch 20/50\n",
            "301/301 [==============================] - 25s 82ms/step - loss: 0.0290 - accuracy: 0.9903 - val_loss: 1.4605 - val_accuracy: 0.7909\n",
            "Epoch 21/50\n",
            "301/301 [==============================] - 25s 82ms/step - loss: 0.0313 - accuracy: 0.9914 - val_loss: 1.5593 - val_accuracy: 0.7921\n",
            "Epoch 22/50\n",
            "301/301 [==============================] - 25s 82ms/step - loss: 0.0384 - accuracy: 0.9892 - val_loss: 1.1904 - val_accuracy: 0.8033\n",
            "Epoch 23/50\n",
            "301/301 [==============================] - 25s 82ms/step - loss: 0.0187 - accuracy: 0.9947 - val_loss: 1.6754 - val_accuracy: 0.7879\n",
            "Epoch 24/50\n",
            "301/301 [==============================] - 25s 82ms/step - loss: 0.0273 - accuracy: 0.9915 - val_loss: 1.5279 - val_accuracy: 0.8000\n",
            "Epoch 25/50\n",
            "301/301 [==============================] - 25s 82ms/step - loss: 0.0323 - accuracy: 0.9901 - val_loss: 1.3423 - val_accuracy: 0.8100\n",
            "Epoch 26/50\n",
            "301/301 [==============================] - 25s 82ms/step - loss: 0.0222 - accuracy: 0.9938 - val_loss: 1.4725 - val_accuracy: 0.7921\n",
            "Epoch 27/50\n",
            "301/301 [==============================] - 25s 82ms/step - loss: 0.0199 - accuracy: 0.9942 - val_loss: 1.4652 - val_accuracy: 0.8000\n",
            "Epoch 28/50\n",
            "301/301 [==============================] - 25s 83ms/step - loss: 0.0310 - accuracy: 0.9904 - val_loss: 1.5720 - val_accuracy: 0.7909\n",
            "Epoch 29/50\n",
            "301/301 [==============================] - 25s 83ms/step - loss: 0.0190 - accuracy: 0.9948 - val_loss: 1.4779 - val_accuracy: 0.7958\n",
            "Epoch 30/50\n",
            "301/301 [==============================] - 25s 83ms/step - loss: 0.0266 - accuracy: 0.9921 - val_loss: 1.2894 - val_accuracy: 0.7933\n",
            "Epoch 31/50\n",
            "301/301 [==============================] - 25s 83ms/step - loss: 0.0241 - accuracy: 0.9922 - val_loss: 1.2769 - val_accuracy: 0.7950\n",
            "Epoch 32/50\n",
            "301/301 [==============================] - 25s 83ms/step - loss: 0.0216 - accuracy: 0.9936 - val_loss: 1.2992 - val_accuracy: 0.7846\n",
            "Epoch 33/50\n",
            "301/301 [==============================] - 25s 83ms/step - loss: 0.0270 - accuracy: 0.9920 - val_loss: 1.2845 - val_accuracy: 0.7917\n",
            "Epoch 34/50\n",
            "301/301 [==============================] - 25s 82ms/step - loss: 0.0165 - accuracy: 0.9955 - val_loss: 1.4469 - val_accuracy: 0.7854\n",
            "Epoch 35/50\n",
            "301/301 [==============================] - 25s 83ms/step - loss: 0.0066 - accuracy: 0.9977 - val_loss: 1.8438 - val_accuracy: 0.7896\n",
            "Epoch 36/50\n",
            "301/301 [==============================] - 25s 83ms/step - loss: 0.0256 - accuracy: 0.9932 - val_loss: 1.6149 - val_accuracy: 0.7780\n",
            "Epoch 37/50\n",
            "301/301 [==============================] - 25s 82ms/step - loss: 0.0262 - accuracy: 0.9926 - val_loss: 1.4091 - val_accuracy: 0.7975\n",
            "Epoch 38/50\n",
            "301/301 [==============================] - 25s 83ms/step - loss: 0.0127 - accuracy: 0.9964 - val_loss: 1.5343 - val_accuracy: 0.7846\n",
            "Epoch 39/50\n",
            "301/301 [==============================] - 25s 82ms/step - loss: 0.0137 - accuracy: 0.9957 - val_loss: 1.6194 - val_accuracy: 0.7809\n",
            "Epoch 40/50\n",
            "301/301 [==============================] - 25s 82ms/step - loss: 0.0118 - accuracy: 0.9962 - val_loss: 1.8388 - val_accuracy: 0.7867\n",
            "Epoch 41/50\n",
            "301/301 [==============================] - 25s 83ms/step - loss: 0.0205 - accuracy: 0.9929 - val_loss: 1.6959 - val_accuracy: 0.7954\n",
            "Epoch 42/50\n",
            "301/301 [==============================] - 25s 83ms/step - loss: 0.0201 - accuracy: 0.9945 - val_loss: 1.5548 - val_accuracy: 0.7875\n",
            "Epoch 43/50\n",
            "301/301 [==============================] - 25s 82ms/step - loss: 0.0237 - accuracy: 0.9928 - val_loss: 1.4501 - val_accuracy: 0.7846\n",
            "Epoch 44/50\n",
            "301/301 [==============================] - 25s 82ms/step - loss: 0.0163 - accuracy: 0.9947 - val_loss: 1.5505 - val_accuracy: 0.7813\n",
            "Epoch 45/50\n",
            "301/301 [==============================] - 25s 82ms/step - loss: 0.0121 - accuracy: 0.9963 - val_loss: 1.6074 - val_accuracy: 0.7929\n",
            "Epoch 46/50\n",
            "301/301 [==============================] - 25s 82ms/step - loss: 0.0132 - accuracy: 0.9964 - val_loss: 1.5536 - val_accuracy: 0.7859\n",
            "Epoch 47/50\n",
            "301/301 [==============================] - 25s 82ms/step - loss: 0.0139 - accuracy: 0.9950 - val_loss: 1.5339 - val_accuracy: 0.7796\n",
            "Epoch 48/50\n",
            "301/301 [==============================] - 25s 82ms/step - loss: 0.0053 - accuracy: 0.9980 - val_loss: 1.9678 - val_accuracy: 0.7696\n",
            "Epoch 49/50\n",
            "301/301 [==============================] - 25s 82ms/step - loss: 0.0144 - accuracy: 0.9960 - val_loss: 1.6350 - val_accuracy: 0.7667\n",
            "Epoch 50/50\n",
            "301/301 [==============================] - 25s 82ms/step - loss: 0.0188 - accuracy: 0.9947 - val_loss: 1.7016 - val_accuracy: 0.7742\n"
          ]
        }
      ]
    },
    {
      "cell_type": "code",
      "source": [
        "results = model.evaluate(test_X, test_y, batch_size=32)\n",
        "print(\"test loss, test acc: \", results)"
      ],
      "metadata": {
        "colab": {
          "base_uri": "https://localhost:8080/"
        },
        "id": "7vBfUuw_hFtK",
        "outputId": "4549dd47-b204-44d4-e79e-96d7225a55bf"
      },
      "execution_count": null,
      "outputs": [
        {
          "output_type": "stream",
          "name": "stdout",
          "text": [
            "161/161 [==============================] - 10s 24ms/step - loss: 1.6723 - accuracy: 0.7820\n",
            "test loss, test acc:  [1.6723017692565918, 0.7820263504981995]\n"
          ]
        }
      ]
    },
    {
      "cell_type": "code",
      "source": [
        "import matplotlib.pyplot as plt\n",
        "\n",
        "his_dict = history.history\n",
        "loss = his_dict['loss']\n",
        "val_loss = his_dict['val_loss'] \n",
        "\n",
        "epochs = range(1, len(loss) + 1)\n",
        "fig = plt.figure(figsize = (10, 5))\n",
        "\n",
        "# 훈련 및 검증 손실 그리기\n",
        "ax1 = fig.add_subplot(1, 2, 1)\n",
        "ax1.plot(epochs, loss, color = 'blue', label = 'train_loss')\n",
        "ax1.plot(epochs, val_loss, color = 'orange', label = 'val_loss')\n",
        "ax1.set_title('train and val loss')\n",
        "ax1.set_xlabel('epochs')\n",
        "ax1.set_ylabel('loss')\n",
        "ax1.legend()\n",
        "\n",
        "acc = his_dict['accuracy']\n",
        "val_acc = his_dict['val_accuracy']\n",
        "\n",
        "# 훈련 및 검증 정확도 그리기\n",
        "ax2 = fig.add_subplot(1, 2, 2)\n",
        "ax2.plot(epochs, acc, color = 'blue', label = 'train_acc')\n",
        "ax2.plot(epochs, val_acc, color = 'orange', label = 'val_accuracy')\n",
        "ax2.set_title('train and val acc')\n",
        "ax2.set_xlabel('epochs')\n",
        "ax2.set_ylabel('acc')\n",
        "ax2.legend()\n",
        "\n",
        "plt.show()"
      ],
      "metadata": {
        "colab": {
          "base_uri": "https://localhost:8080/",
          "height": 350
        },
        "id": "kpKmCJ4Ntp8F",
        "outputId": "be0152e3-be1f-44cb-f936-18cf9fc12cad"
      },
      "execution_count": null,
      "outputs": [
        {
          "output_type": "display_data",
          "data": {
            "text/plain": [
              "<Figure size 720x360 with 2 Axes>"
            ],
            "image/png": "[encoded data removed]"
          },
          "metadata": {
            "needs_background": "light"
          }
        }
      ]
    },
    {
      "cell_type": "code",
      "source": [
        "def sentiment_predict(new_sentence):\n",
        "\n",
        "  bos_token = [tokenizer.bos_token]\n",
        "  eos_token = [tokenizer.eos_token]\n",
        "  tokens = bos_token + tokenizer.tokenize(new_sentence) + eos_token\n",
        "  input_id = tokenizer.convert_tokens_to_ids(tokens)\n",
        "  input_id = pad_sequences([input_id], maxlen=max_seq_len, value=tokenizer.pad_token_id, padding='post')[0]\n",
        "  input_id = np.array([input_id])\n",
        "  score = np.argmax(model.predict(input_id)[0])\n",
        "  print(score)\n",
        "\n",
        "  if(score == 0):\n",
        "    print('감기')\n",
        "  elif(score == 1):\n",
        "    print('폐렴')\n",
        "  elif(score == 2):\n",
        "    print('독감')\n",
        "  elif(score == 3):\n",
        "    print('과호흡')\n",
        "  elif(score == 4):\n",
        "    print('장염')\n",
        "  elif(score == 5):\n",
        "    print('대장염')\n",
        "  elif(score == 6):\n",
        "    print('고혈압')\n",
        "  elif(score == 7):\n",
        "    print('협심증')\n",
        "  elif(score == 8):\n",
        "    print('심근경색')\n",
        "  elif(score == 9):\n",
        "    print('공황장애')"
      ],
      "metadata": {
        "id": "rSArtt4mkwf3"
      },
      "execution_count": null,
      "outputs": []
    },
    {
      "cell_type": "code",
      "source": [
        "sentiment_predict('기침도 하고 열도 많이 나서 약을 먹었는데 일주일 넘게 증상이 계속돼요 무슨 증상인가요') ############## 폐렴"
      ],
      "metadata": {
        "colab": {
          "base_uri": "https://localhost:8080/"
        },
        "id": "mP6mmZO902np",
        "outputId": "57df9feb-a5eb-4f0b-c091-df211ab515b1"
      },
      "execution_count": null,
      "outputs": [
        {
          "output_type": "stream",
          "name": "stdout",
          "text": [
            "1\n",
            "폐렴\n"
          ]
        }
      ]
    },
    {
      "cell_type": "code",
      "source": [
        "sentiment_predict('운동하고 난 뒤에 5분정도 가슴에 통증이 있었는데 괜찮을가요?') ############# 협심증"
      ],
      "metadata": {
        "colab": {
          "base_uri": "https://localhost:8080/"
        },
        "id": "Wzb7u3_KxV_Q",
        "outputId": "830d2a32-7814-4c10-e864-fb3b7b2bb436"
      },
      "execution_count": null,
      "outputs": [
        {
          "output_type": "stream",
          "name": "stdout",
          "text": [
            "7\n",
            "협심증\n"
          ]
        }
      ]
    },
    {
      "cell_type": "code",
      "source": [
        "sentiment_predict('가슴 뼈 안쪽이 조이는 듯한 통증이 있고 어제는 구토를 했었는데 무슨 증상인가요') # 심근경색"
      ],
      "metadata": {
        "colab": {
          "base_uri": "https://localhost:8080/"
        },
        "id": "gAFj_4CzxXpK",
        "outputId": "e6f7868b-516b-4ae6-dc27-af07bc94ecb2"
      },
      "execution_count": null,
      "outputs": [
        {
          "output_type": "stream",
          "name": "stdout",
          "text": [
            "7\n",
            "협심증\n"
          ]
        }
      ]
    },
    {
      "cell_type": "code",
      "source": [
        "sentiment_predict('호흡이 불안정하고 손이 떨리고 종종 어지러운데 왜 그럴까요?ㅠㅠ') ################ 과호흡"
      ],
      "metadata": {
        "colab": {
          "base_uri": "https://localhost:8080/"
        },
        "id": "8oSEuh46xYNj",
        "outputId": "5c270377-a190-4ec2-e4ad-0957a2b7a188"
      },
      "execution_count": null,
      "outputs": [
        {
          "output_type": "stream",
          "name": "stdout",
          "text": [
            "7\n",
            "협심증\n"
          ]
        }
      ]
    },
    {
      "cell_type": "code",
      "source": [
        "sentiment_predict('갑자기 죽을 것 처럼 호흡이 가빠지고 식은땀도 나는데 왜 이러는 건가요')   # 공황장애"
      ],
      "metadata": {
        "colab": {
          "base_uri": "https://localhost:8080/"
        },
        "id": "9ELz4soBxbn3",
        "outputId": "f5abee4c-a8d9-4ef1-a766-567d1a2e033b"
      },
      "execution_count": null,
      "outputs": [
        {
          "output_type": "stream",
          "name": "stdout",
          "text": [
            "7\n",
            "협심증\n"
          ]
        }
      ]
    },
    {
      "cell_type": "code",
      "source": [
        "sentiment_predict('저녁을 먹고 구토랑 설사를 동반한 복통이 오는데 무슨 증상인가요') ############# 장염"
      ],
      "metadata": {
        "colab": {
          "base_uri": "https://localhost:8080/"
        },
        "id": "oIHsDXo4xfHy",
        "outputId": "9396707d-40d1-43ce-a810-e70c6952aa14"
      },
      "execution_count": null,
      "outputs": [
        {
          "output_type": "stream",
          "name": "stdout",
          "text": [
            "4\n",
            "장염\n"
          ]
        }
      ]
    },
    {
      "cell_type": "code",
      "source": [
        "sentiment_predict('2주 동안 복통과 설사가 반복되고 체중도 조금 줄었는데 몇일 전부터는 혈변도 나와요 무슨 증상인가요')  # 대장염"
      ],
      "metadata": {
        "colab": {
          "base_uri": "https://localhost:8080/"
        },
        "id": "RpyzKupvxi_s",
        "outputId": "03b38492-3628-46c7-ae60-aa8a272d9ea4"
      },
      "execution_count": null,
      "outputs": [
        {
          "output_type": "stream",
          "name": "stdout",
          "text": [
            "5\n",
            "대장염\n"
          ]
        }
      ]
    },
    {
      "cell_type": "code",
      "source": [
        "sentiment_predict('호흡이 가빠지고 심장이 두근거리고 가슴 쪽에 불쾌한 감정이 들면서 급격히 증상이 나빠져 죽거나 미칠지도 모르겠다는 불안이 요 며칠 수십분 지속되고 있습니다. 병원에서는 폐나 뇌에 이상이 생기지는 않았다는데 무슨 증상일까요 많이 걱정되네요,,') ############## 공황장애"
      ],
      "metadata": {
        "colab": {
          "base_uri": "https://localhost:8080/"
        },
        "id": "8trIZR6B210W",
        "outputId": "2ecaf3dc-4c43-47b0-9cf5-66fc17df014c"
      },
      "execution_count": null,
      "outputs": [
        {
          "output_type": "stream",
          "name": "stdout",
          "text": [
            "8\n",
            "심근경색\n"
          ]
        }
      ]
    },
    {
      "cell_type": "code",
      "source": [
        "sentiment_predict('아무 증상없다가 오늘 아침에 갑자기 가슴 뼈 안쪽에 통증이 30분 이상 지속되었는데 무슨 증상인가요') ############## 심근경색"
      ],
      "metadata": {
        "colab": {
          "base_uri": "https://localhost:8080/"
        },
        "id": "w5I8UuKD2--U",
        "outputId": "e2bedcce-4681-42f5-a5e8-73eeccf1cc8d"
      },
      "execution_count": null,
      "outputs": [
        {
          "output_type": "stream",
          "name": "stdout",
          "text": [
            "6\n",
            "고혈압\n"
          ]
        }
      ]
    },
    {
      "cell_type": "markdown",
      "source": [
        "# **에포크 30**\n"
      ],
      "metadata": {
        "id": "IvDweI003HbS"
      }
    },
    {
      "cell_type": "code",
      "source": [
        "history = model.fit(train_X, train_y, epochs=30, batch_size=32, validation_split=0.2)"
      ],
      "metadata": {
        "colab": {
          "base_uri": "https://localhost:8080/"
        },
        "outputId": "b04fb9ff-7b6e-47c2-db13-67a41af83909",
        "id": "-qA0q9Af3HbT"
      },
      "execution_count": null,
      "outputs": [
        {
          "output_type": "stream",
          "name": "stdout",
          "text": [
            "Epoch 1/30\n",
            "301/301 [==============================] - 149s 254ms/step - loss: 0.9023 - accuracy: 0.7298 - val_loss: 0.5596 - val_accuracy: 0.8125\n",
            "Epoch 2/30\n",
            "301/301 [==============================] - 25s 82ms/step - loss: 0.5670 - accuracy: 0.8165 - val_loss: 0.5871 - val_accuracy: 0.8112\n",
            "Epoch 3/30\n",
            "301/301 [==============================] - 25s 84ms/step - loss: 0.4799 - accuracy: 0.8386 - val_loss: 0.5653 - val_accuracy: 0.8154\n",
            "Epoch 4/30\n",
            "301/301 [==============================] - 25s 83ms/step - loss: 0.3974 - accuracy: 0.8655 - val_loss: 0.6230 - val_accuracy: 0.8237\n",
            "Epoch 5/30\n",
            "301/301 [==============================] - 25s 83ms/step - loss: 0.3011 - accuracy: 0.8985 - val_loss: 0.6636 - val_accuracy: 0.8170\n",
            "Epoch 6/30\n",
            "301/301 [==============================] - 25s 83ms/step - loss: 0.2308 - accuracy: 0.9200 - val_loss: 0.7713 - val_accuracy: 0.7884\n",
            "Epoch 7/30\n",
            "301/301 [==============================] - 25s 83ms/step - loss: 0.1778 - accuracy: 0.9389 - val_loss: 0.7525 - val_accuracy: 0.8166\n",
            "Epoch 8/30\n",
            "301/301 [==============================] - 25s 83ms/step - loss: 0.1278 - accuracy: 0.9554 - val_loss: 0.8472 - val_accuracy: 0.8141\n",
            "Epoch 9/30\n",
            "301/301 [==============================] - 25s 83ms/step - loss: 0.1059 - accuracy: 0.9645 - val_loss: 0.9097 - val_accuracy: 0.7988\n",
            "Epoch 10/30\n",
            "301/301 [==============================] - 25s 83ms/step - loss: 0.0771 - accuracy: 0.9766 - val_loss: 1.0470 - val_accuracy: 0.8067\n",
            "Epoch 11/30\n",
            "301/301 [==============================] - 25s 82ms/step - loss: 0.0620 - accuracy: 0.9808 - val_loss: 1.0387 - val_accuracy: 0.8129\n",
            "Epoch 12/30\n",
            "301/301 [==============================] - 25s 83ms/step - loss: 0.0509 - accuracy: 0.9843 - val_loss: 1.1411 - val_accuracy: 0.8083\n",
            "Epoch 13/30\n",
            "301/301 [==============================] - 25s 83ms/step - loss: 0.0563 - accuracy: 0.9800 - val_loss: 1.1510 - val_accuracy: 0.8046\n",
            "Epoch 14/30\n",
            "301/301 [==============================] - 25s 83ms/step - loss: 0.0540 - accuracy: 0.9826 - val_loss: 1.1646 - val_accuracy: 0.8058\n",
            "Epoch 15/30\n",
            "301/301 [==============================] - 25s 83ms/step - loss: 0.0417 - accuracy: 0.9875 - val_loss: 1.2135 - val_accuracy: 0.8054\n",
            "Epoch 16/30\n",
            "301/301 [==============================] - 26s 86ms/step - loss: 0.0384 - accuracy: 0.9889 - val_loss: 1.2388 - val_accuracy: 0.8058\n",
            "Epoch 17/30\n",
            "301/301 [==============================] - 25s 83ms/step - loss: 0.0331 - accuracy: 0.9901 - val_loss: 1.3332 - val_accuracy: 0.7954\n",
            "Epoch 18/30\n",
            "301/301 [==============================] - 25s 83ms/step - loss: 0.0391 - accuracy: 0.9874 - val_loss: 1.4604 - val_accuracy: 0.7950\n",
            "Epoch 19/30\n",
            "301/301 [==============================] - 25s 83ms/step - loss: 0.0298 - accuracy: 0.9916 - val_loss: 1.3412 - val_accuracy: 0.7967\n",
            "Epoch 20/30\n",
            "301/301 [==============================] - 25s 83ms/step - loss: 0.0353 - accuracy: 0.9884 - val_loss: 1.4831 - val_accuracy: 0.7946\n",
            "Epoch 21/30\n",
            "301/301 [==============================] - 25s 84ms/step - loss: 0.0259 - accuracy: 0.9927 - val_loss: 1.4803 - val_accuracy: 0.7963\n",
            "Epoch 22/30\n",
            "301/301 [==============================] - 25s 83ms/step - loss: 0.0305 - accuracy: 0.9911 - val_loss: 1.3850 - val_accuracy: 0.7900\n",
            "Epoch 23/30\n",
            "301/301 [==============================] - 25s 83ms/step - loss: 0.0336 - accuracy: 0.9901 - val_loss: 1.1746 - val_accuracy: 0.7975\n",
            "Epoch 24/30\n",
            "301/301 [==============================] - 25s 83ms/step - loss: 0.0330 - accuracy: 0.9899 - val_loss: 1.4072 - val_accuracy: 0.7975\n",
            "Epoch 25/30\n",
            "301/301 [==============================] - 25s 83ms/step - loss: 0.0338 - accuracy: 0.9882 - val_loss: 1.6452 - val_accuracy: 0.7913\n",
            "Epoch 26/30\n",
            "301/301 [==============================] - 25s 83ms/step - loss: 0.0197 - accuracy: 0.9943 - val_loss: 1.4087 - val_accuracy: 0.7992\n",
            "Epoch 27/30\n",
            "301/301 [==============================] - 25s 84ms/step - loss: 0.0202 - accuracy: 0.9937 - val_loss: 1.4585 - val_accuracy: 0.7825\n",
            "Epoch 28/30\n",
            "301/301 [==============================] - 25s 83ms/step - loss: 0.0246 - accuracy: 0.9932 - val_loss: 1.5717 - val_accuracy: 0.7946\n",
            "Epoch 29/30\n",
            "301/301 [==============================] - 25s 83ms/step - loss: 0.0204 - accuracy: 0.9929 - val_loss: 1.4232 - val_accuracy: 0.7884\n",
            "Epoch 30/30\n",
            "301/301 [==============================] - 25s 83ms/step - loss: 0.0333 - accuracy: 0.9901 - val_loss: 1.3421 - val_accuracy: 0.7988\n"
          ]
        }
      ]
    },
    {
      "cell_type": "code",
      "source": [
        "results = model.evaluate(test_X, test_y, batch_size=32)\n",
        "print(\"test loss, test acc: \", results)"
      ],
      "metadata": {
        "colab": {
          "base_uri": "https://localhost:8080/"
        },
        "outputId": "43b5bc93-9be1-4a94-bb2e-d07b5176452a",
        "id": "hYs_UDDH3hFi"
      },
      "execution_count": null,
      "outputs": [
        {
          "output_type": "stream",
          "name": "stdout",
          "text": [
            "161/161 [==============================] - 10s 25ms/step - loss: 1.3318 - accuracy: 0.7902\n",
            "test loss, test acc:  [1.3317674398422241, 0.7901785373687744]\n"
          ]
        }
      ]
    },
    {
      "cell_type": "code",
      "source": [
        "import matplotlib.pyplot as plt\n",
        "\n",
        "his_dict = history.history\n",
        "loss = his_dict['loss']\n",
        "val_loss = his_dict['val_loss'] \n",
        "\n",
        "epochs = range(1, len(loss) + 1)\n",
        "fig = plt.figure(figsize = (10, 5))\n",
        "\n",
        "# 훈련 및 검증 손실 그리기\n",
        "ax1 = fig.add_subplot(1, 2, 1)\n",
        "ax1.plot(epochs, loss, color = 'blue', label = 'train_loss')\n",
        "ax1.plot(epochs, val_loss, color = 'orange', label = 'val_loss')\n",
        "ax1.set_title('train and val loss')\n",
        "ax1.set_xlabel('epochs')\n",
        "ax1.set_ylabel('loss')\n",
        "ax1.legend()\n",
        "\n",
        "acc = his_dict['accuracy']\n",
        "val_acc = his_dict['val_accuracy']\n",
        "\n",
        "# 훈련 및 검증 정확도 그리기\n",
        "ax2 = fig.add_subplot(1, 2, 2)\n",
        "ax2.plot(epochs, acc, color = 'blue', label = 'train_acc')\n",
        "ax2.plot(epochs, val_acc, color = 'orange', label = 'val_accuracy')\n",
        "ax2.set_title('train and val acc')\n",
        "ax2.set_xlabel('epochs')\n",
        "ax2.set_ylabel('acc')\n",
        "ax2.legend()\n",
        "\n",
        "plt.show()"
      ],
      "metadata": {
        "colab": {
          "base_uri": "https://localhost:8080/",
          "height": 350
        },
        "outputId": "795d1bd1-3145-4014-8890-419df2028757",
        "id": "Nq125rCG3hFj"
      },
      "execution_count": null,
      "outputs": [
        {
          "output_type": "display_data",
          "data": {
            "text/plain": [
              "<Figure size 720x360 with 2 Axes>"
            ],
            "image/png": "[encoded data removed]"
          },
          "metadata": {
            "needs_background": "light"
          }
        }
      ]
    },
    {
      "cell_type": "code",
      "source": [
        "sentiment_predict('기침도 하고 열도 많이 나서 약을 먹었는데 일주일 넘게 증상이 계속돼요 무슨 증상인가요') ############## 폐렴"
      ],
      "metadata": {
        "colab": {
          "base_uri": "https://localhost:8080/"
        },
        "outputId": "62e0cbfe-1f2a-4028-b0e8-78e063200f24",
        "id": "E6X5XC123wgD"
      },
      "execution_count": null,
      "outputs": [
        {
          "output_type": "stream",
          "name": "stdout",
          "text": [
            "1\n",
            "폐렴\n"
          ]
        }
      ]
    },
    {
      "cell_type": "code",
      "source": [
        "sentiment_predict('운동하고 난 뒤에 5분정도 가슴에 통증이 있었는데 괜찮을가요?') ############# 협심증"
      ],
      "metadata": {
        "colab": {
          "base_uri": "https://localhost:8080/"
        },
        "outputId": "8fee3fa9-a1d2-447c-c4a0-378089131338",
        "id": "0cENQZsr3wgE"
      },
      "execution_count": null,
      "outputs": [
        {
          "output_type": "stream",
          "name": "stdout",
          "text": [
            "7\n",
            "협심증\n"
          ]
        }
      ]
    },
    {
      "cell_type": "code",
      "source": [
        "sentiment_predict('가슴 뼈 안쪽이 조이는 듯한 통증이 있고 어제는 구토를 했었는데 무슨 증상인가요') # 심근경색"
      ],
      "metadata": {
        "colab": {
          "base_uri": "https://localhost:8080/"
        },
        "outputId": "f2ce5347-04b4-4d3f-b92a-570b03623911",
        "id": "h43K-miy3wgE"
      },
      "execution_count": null,
      "outputs": [
        {
          "output_type": "stream",
          "name": "stdout",
          "text": [
            "7\n",
            "협심증\n"
          ]
        }
      ]
    },
    {
      "cell_type": "code",
      "source": [
        "sentiment_predict('호흡이 불안정하고 손이 떨리고 종종 어지러운데 왜 그럴까요?ㅠㅠ') ################ 과호흡"
      ],
      "metadata": {
        "colab": {
          "base_uri": "https://localhost:8080/"
        },
        "outputId": "558d2fb5-3e4f-4bd1-fd41-176d14555c73",
        "id": "yrCAAWnA3wgE"
      },
      "execution_count": null,
      "outputs": [
        {
          "output_type": "stream",
          "name": "stdout",
          "text": [
            "3\n",
            "과호흡\n"
          ]
        }
      ]
    },
    {
      "cell_type": "code",
      "source": [
        "sentiment_predict('갑자기 죽을 것 처럼 호흡이 가빠지고 식은땀도 나는데 왜 이러는 건가요')   # 공황장애"
      ],
      "metadata": {
        "colab": {
          "base_uri": "https://localhost:8080/"
        },
        "outputId": "c36ae9c4-4814-47d1-b231-06e5cbea0449",
        "id": "DFtA4h9b3wgF"
      },
      "execution_count": null,
      "outputs": [
        {
          "output_type": "stream",
          "name": "stdout",
          "text": [
            "3\n",
            "과호흡\n"
          ]
        }
      ]
    },
    {
      "cell_type": "code",
      "source": [
        "sentiment_predict('저녁을 먹고 구토랑 설사를 동반한 복통이 오는데 무슨 증상인가요') ############# 장염"
      ],
      "metadata": {
        "colab": {
          "base_uri": "https://localhost:8080/"
        },
        "outputId": "f2cc28ba-40c1-45ac-9caf-9fc401cd092d",
        "id": "wVzLtp-I3wgF"
      },
      "execution_count": null,
      "outputs": [
        {
          "output_type": "stream",
          "name": "stdout",
          "text": [
            "4\n",
            "장염\n"
          ]
        }
      ]
    },
    {
      "cell_type": "code",
      "source": [
        "sentiment_predict('2주 동안 복통과 설사가 반복되고 체중도 조금 줄었는데 몇일 전부터는 혈변도 나와요 무슨 증상인가요')  # 대장염"
      ],
      "metadata": {
        "colab": {
          "base_uri": "https://localhost:8080/"
        },
        "outputId": "2eb3a652-07bc-4005-e23a-c880144ac72d",
        "id": "zH64fbNi3wgF"
      },
      "execution_count": null,
      "outputs": [
        {
          "output_type": "stream",
          "name": "stdout",
          "text": [
            "4\n",
            "장염\n"
          ]
        }
      ]
    },
    {
      "cell_type": "code",
      "source": [
        "sentiment_predict('호흡이 가빠지고 심장이 두근거리고 가슴 쪽에 불쾌한 감정이 들면서 급격히 증상이 나빠져 죽거나 미칠지도 모르겠다는 불안이 요 며칠 수십분 지속되고 있습니다. 병원에서는 폐나 뇌에 이상이 생기지는 않았다는데 무슨 증상일까요 많이 걱정되네요,,') ############## 공황장애"
      ],
      "metadata": {
        "colab": {
          "base_uri": "https://localhost:8080/"
        },
        "outputId": "d6a2b65c-0180-4b25-c1be-1ce99dfac045",
        "id": "D6MWHHX43wgG"
      },
      "execution_count": null,
      "outputs": [
        {
          "output_type": "stream",
          "name": "stdout",
          "text": [
            "8\n",
            "심근경색\n"
          ]
        }
      ]
    },
    {
      "cell_type": "code",
      "source": [
        "sentiment_predict('아무 증상없다가 오늘 아침에 갑자기 가슴 뼈 안쪽에 통증이 30분 이상 지속되었는데 무슨 증상인가요') ############## 심근경색"
      ],
      "metadata": {
        "colab": {
          "base_uri": "https://localhost:8080/"
        },
        "outputId": "11b1c926-2b4a-4b2f-c171-3da87b487093",
        "id": "LSydGFYc3wgG"
      },
      "execution_count": null,
      "outputs": [
        {
          "output_type": "stream",
          "name": "stdout",
          "text": [
            "8\n",
            "심근경색\n"
          ]
        }
      ]
    },
    {
      "cell_type": "code",
      "source": [
        "sentiment_predict('가슴을 바늘로 찌르는 통증과 목에도 통증이 느껴지고 숨이 차고 두통이 있는 총체적 난국입니다 무슨 증상인가요?ㅜㅠ')  # 심근경색"
      ],
      "metadata": {
        "colab": {
          "base_uri": "https://localhost:8080/"
        },
        "id": "iqQhijmy7Qm_",
        "outputId": "f87d56c1-d536-4c76-cb0b-ad16876caad3"
      },
      "execution_count": null,
      "outputs": [
        {
          "output_type": "stream",
          "name": "stdout",
          "text": [
            "8\n",
            "심근경색\n"
          ]
        }
      ]
    },
    {
      "cell_type": "code",
      "source": [
        "sentiment_predict('피로감이 동반된 고열이랑 인후통이 있어요. 구토도 하고 복통도 있어요 이건 무슨 병일까요?ㅜ')  # 독감"
      ],
      "metadata": {
        "colab": {
          "base_uri": "https://localhost:8080/"
        },
        "id": "PhTbkz88Fgv4",
        "outputId": "bbafc937-1d05-4fa5-9031-02660678dfb3"
      },
      "execution_count": null,
      "outputs": [
        {
          "output_type": "stream",
          "name": "stdout",
          "text": [
            "1\n",
            "폐렴\n"
          ]
        }
      ]
    },
    {
      "cell_type": "code",
      "source": [
        "sentiment_predict('열이 나고 구토하고 변에 피가 묻어 나와요 빈혈기도 있는것 같고 머선 증상이죠?')  # 대장염"
      ],
      "metadata": {
        "colab": {
          "base_uri": "https://localhost:8080/"
        },
        "id": "4RVyMhCZFrLe",
        "outputId": "71290c90-7494-4211-c165-701dc0fc5a2b"
      },
      "execution_count": null,
      "outputs": [
        {
          "output_type": "stream",
          "name": "stdout",
          "text": [
            "5\n",
            "대장염\n"
          ]
        }
      ]
    },
    {
      "cell_type": "code",
      "source": [
        "sentiment_predict('가슴이 심하게 두근거리고 식은땀이 나고 비현실적인 감각과 죽을 것 같은 두려움이 몇일동안 나타나요 왜 그러죠?') # 공황장애"
      ],
      "metadata": {
        "colab": {
          "base_uri": "https://localhost:8080/"
        },
        "id": "K9EnQWcCF0_J",
        "outputId": "23eb1716-d227-4055-a107-6eb71bce7a64"
      },
      "execution_count": null,
      "outputs": [
        {
          "output_type": "stream",
          "name": "stdout",
          "text": [
            "9\n",
            "공황장애\n"
          ]
        }
      ]
    },
    {
      "cell_type": "code",
      "source": [
        "### 독감 증상 더 해보기"
      ],
      "metadata": {
        "id": "visiI1yhGgAB"
      },
      "execution_count": null,
      "outputs": []
    },
    {
      "cell_type": "code",
      "source": [
        "sentiment_predict('감기랑 증상은 비슷한데 열이 38도까지 올라가고 두통도 심하고 오한도 있고 3일정도 계속 그러네요 무슨증상인가요')  # 독감"
      ],
      "metadata": {
        "id": "qAkp0RU5SWnO",
        "colab": {
          "base_uri": "https://localhost:8080/"
        },
        "outputId": "1fcc2da7-4025-4f3c-e321-59135768ec67"
      },
      "execution_count": null,
      "outputs": [
        {
          "output_type": "stream",
          "name": "stdout",
          "text": [
            "0\n",
            "감기\n"
          ]
        }
      ]
    },
    {
      "cell_type": "code",
      "source": [
        "sentiment_predict('미열이 지속되다가 갑자기 심하게 아프고 코에서 이상한 냄새도 나고 생각보다 증상이 오래 가는데 무슨 증상인가요?')   # 폐렴"
      ],
      "metadata": {
        "id": "XEC0ObRNTDPC",
        "colab": {
          "base_uri": "https://localhost:8080/"
        },
        "outputId": "40fda63f-0a1c-41e6-d2f1-a754cd409858"
      },
      "execution_count": null,
      "outputs": [
        {
          "output_type": "stream",
          "name": "stdout",
          "text": [
            "1\n",
            "폐렴\n"
          ]
        }
      ]
    },
    {
      "cell_type": "code",
      "source": [
        "sentiment_predict('미열이 있고 근육통도 있는데 그냥 감기일까요')   # 감기"
      ],
      "metadata": {
        "id": "G1VVI6IzT6XI",
        "colab": {
          "base_uri": "https://localhost:8080/"
        },
        "outputId": "68ac05be-a5f4-4ea6-de45-13797a79dbc6"
      },
      "execution_count": null,
      "outputs": [
        {
          "output_type": "stream",
          "name": "stdout",
          "text": [
            "0\n",
            "감기\n"
          ]
        }
      ]
    },
    {
      "cell_type": "code",
      "source": [
        "sentiment_predict('미열이 있고 근육통도 있는데 무슨 증상인가요')   # 감기"
      ],
      "metadata": {
        "id": "X-yjVchmIfjx",
        "colab": {
          "base_uri": "https://localhost:8080/"
        },
        "outputId": "9938b14e-a7f3-4ce9-ef26-1ed17c633492"
      },
      "execution_count": null,
      "outputs": [
        {
          "output_type": "stream",
          "name": "stdout",
          "text": [
            "1\n",
            "폐렴\n"
          ]
        }
      ]
    },
    {
      "cell_type": "code",
      "source": [
        "sentiment_predict('딸기젤리형태의 가래가 나오는데 저 잘못되는거 아니겠죠ㅠ')  # 폐암"
      ],
      "metadata": {
        "id": "bQOyBNXOUZ4r",
        "colab": {
          "base_uri": "https://localhost:8080/"
        },
        "outputId": "bd25bd53-bba8-41f1-8a8a-ecc017341904"
      },
      "execution_count": null,
      "outputs": [
        {
          "output_type": "stream",
          "name": "stdout",
          "text": [
            "1\n",
            "폐렴\n"
          ]
        }
      ]
    },
    {
      "cell_type": "code",
      "source": [
        "sentiment_predict('가슴을 쥐어짜는 통증이 어깨랑 목으로 퍼져나가고 숨이 찬데 무슨 증상인가요')  # 심근경색"
      ],
      "metadata": {
        "colab": {
          "base_uri": "https://localhost:8080/"
        },
        "id": "gPMds0R4x73_",
        "outputId": "0e95837b-f342-4150-f054-f492f5312d98"
      },
      "execution_count": null,
      "outputs": [
        {
          "output_type": "stream",
          "name": "stdout",
          "text": [
            "8\n",
            "심근경색\n"
          ]
        }
      ]
    },
    {
      "cell_type": "code",
      "source": [
        "sentiment_predict('갑자기 몇일전부터 몸이 피로하고 열이 38 37.8 38.1 왔다갔다하고 기침도 하는데 무슨 증상인가요')  # 독감"
      ],
      "metadata": {
        "colab": {
          "base_uri": "https://localhost:8080/"
        },
        "id": "BRldvZ2pygf0",
        "outputId": "8ef6debd-846a-4fd7-a55b-8ee1c17d52fe"
      },
      "execution_count": null,
      "outputs": [
        {
          "output_type": "stream",
          "name": "stdout",
          "text": [
            "0\n",
            "감기\n"
          ]
        }
      ]
    },
    {
      "cell_type": "code",
      "source": [
        "sentiment_predict('두통이랑 어지러움이 있는데 혈압을 쟀는데 수치는 기억이 안나요 무슨 증상인가요')  # 고혈압"
      ],
      "metadata": {
        "colab": {
          "base_uri": "https://localhost:8080/"
        },
        "id": "6krigqqGzc8q",
        "outputId": "01e1fe4e-6518-4e8e-973b-7dc52dd90602"
      },
      "execution_count": null,
      "outputs": [
        {
          "output_type": "stream",
          "name": "stdout",
          "text": [
            "6\n",
            "고혈압\n"
          ]
        }
      ]
    },
    {
      "cell_type": "code",
      "source": [
        "sentiment_predict('두통이랑 어지러움이 있고 뒷목이 뻣뻣한데 무슨 증상인가요?')   # 고혈압"
      ],
      "metadata": {
        "colab": {
          "base_uri": "https://localhost:8080/"
        },
        "id": "pkePkv4r3NS5",
        "outputId": "099939e2-fc49-4993-f559-9073ab65db6e"
      },
      "execution_count": null,
      "outputs": [
        {
          "output_type": "stream",
          "name": "stdout",
          "text": [
            "6\n",
            "고혈압\n"
          ]
        }
      ]
    },
    {
      "cell_type": "code",
      "source": [
        "sentiment_predict('고혈압이 있는데 숨이 차고 식은땀이랑 구토, 두통이 지속돼요 가슴을 바늘로 찌르는 통증도 종종있구요 무슨 증상인가요')  # 심근경색"
      ],
      "metadata": {
        "colab": {
          "base_uri": "https://localhost:8080/"
        },
        "id": "z0dykJYL0NZV",
        "outputId": "98891bc2-caa5-40da-bf58-6e8406d11fcd"
      },
      "execution_count": null,
      "outputs": [
        {
          "output_type": "stream",
          "name": "stdout",
          "text": [
            "6\n",
            "고혈압\n"
          ]
        }
      ]
    },
    {
      "cell_type": "code",
      "source": [
        "sentiment_predict('병원에서 혈압을 쟀는데 140 나왔는데 몸에 이상은 없습니다 무슨 질병인가요')  # 고혈압"
      ],
      "metadata": {
        "colab": {
          "base_uri": "https://localhost:8080/"
        },
        "id": "jeEONLwI0WHL",
        "outputId": "4e7cf762-0e1b-42ef-96d9-b45db5a0cbff"
      },
      "execution_count": null,
      "outputs": [
        {
          "output_type": "stream",
          "name": "stdout",
          "text": [
            "6\n",
            "고혈압\n"
          ]
        }
      ]
    },
    {
      "cell_type": "code",
      "source": [
        "sentiment_predict('혈압은 정상인데 두통이랑 고열이 있습니다 가래도 끓고요 무슨 증상인가요')  # 폐렴"
      ],
      "metadata": {
        "colab": {
          "base_uri": "https://localhost:8080/"
        },
        "id": "GXP_7qU16Nq7",
        "outputId": "86568276-120d-4075-9143-4502907bbeb4"
      },
      "execution_count": null,
      "outputs": [
        {
          "output_type": "stream",
          "name": "stdout",
          "text": [
            "6\n",
            "고혈압\n"
          ]
        }
      ]
    },
    {
      "cell_type": "code",
      "source": [
        "sentiment_predict('당뇨가 있는데 혈변을 합니다 무슨 증상인가요')  # 대장염"
      ],
      "metadata": {
        "colab": {
          "base_uri": "https://localhost:8080/"
        },
        "id": "c6J1zNnE6lzx",
        "outputId": "b8540890-1dd6-413f-f6eb-d21d5f4881e5"
      },
      "execution_count": null,
      "outputs": [
        {
          "output_type": "stream",
          "name": "stdout",
          "text": [
            "5\n",
            "대장염\n"
          ]
        }
      ]
    },
    {
      "cell_type": "code",
      "source": [
        "sentiment_predict('과호흡이 왔는데 몸의 압박감이랑 죽을 것 같은 느낌이 들 정도로 힘들었는데 무슨 증상인가요')  # 공황장애"
      ],
      "metadata": {
        "id": "QM1L20HS7Io9",
        "colab": {
          "base_uri": "https://localhost:8080/"
        },
        "outputId": "754e25c9-3118-4427-b8ea-bd2cffedeb3c"
      },
      "execution_count": null,
      "outputs": [
        {
          "output_type": "stream",
          "name": "stdout",
          "text": [
            "3\n",
            "과호흡\n"
          ]
        }
      ]
    },
    {
      "cell_type": "code",
      "source": [],
      "metadata": {
        "id": "BYcKtWCEUGLI"
      },
      "execution_count": null,
      "outputs": []
    }
  ]
}